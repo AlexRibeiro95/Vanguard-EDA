{
 "cells": [
  {
   "cell_type": "markdown",
   "metadata": {},
   "source": [
    "# Data cleaning and merging\n",
    "\n",
    "- In this notebook, we will clean the data and merge the data from the different datasets. "
   ]
  },
  {
   "cell_type": "markdown",
   "metadata": {},
   "source": [
    "## Client Profiles (client_profiles.csv)"
   ]
  },
  {
   "cell_type": "code",
   "execution_count": 1,
   "metadata": {},
   "outputs": [
    {
     "data": {
      "text/html": [
       "<div>\n",
       "<style scoped>\n",
       "    .dataframe tbody tr th:only-of-type {\n",
       "        vertical-align: middle;\n",
       "    }\n",
       "\n",
       "    .dataframe tbody tr th {\n",
       "        vertical-align: top;\n",
       "    }\n",
       "\n",
       "    .dataframe thead th {\n",
       "        text-align: right;\n",
       "    }\n",
       "</style>\n",
       "<table border=\"1\" class=\"dataframe\">\n",
       "  <thead>\n",
       "    <tr style=\"text-align: right;\">\n",
       "      <th></th>\n",
       "      <th>client_id</th>\n",
       "      <th>clnt_tenure_yr</th>\n",
       "      <th>clnt_tenure_mnth</th>\n",
       "      <th>clnt_age</th>\n",
       "      <th>gendr</th>\n",
       "      <th>num_accts</th>\n",
       "      <th>bal</th>\n",
       "      <th>calls_6_mnth</th>\n",
       "      <th>logons_6_mnth</th>\n",
       "    </tr>\n",
       "  </thead>\n",
       "  <tbody>\n",
       "    <tr>\n",
       "      <th>46166</th>\n",
       "      <td>5775881</td>\n",
       "      <td>10.0</td>\n",
       "      <td>124.0</td>\n",
       "      <td>66.0</td>\n",
       "      <td>F</td>\n",
       "      <td>2.0</td>\n",
       "      <td>109408.77</td>\n",
       "      <td>0.0</td>\n",
       "      <td>4.0</td>\n",
       "    </tr>\n",
       "    <tr>\n",
       "      <th>19457</th>\n",
       "      <td>9477401</td>\n",
       "      <td>15.0</td>\n",
       "      <td>191.0</td>\n",
       "      <td>45.5</td>\n",
       "      <td>M</td>\n",
       "      <td>2.0</td>\n",
       "      <td>71620.07</td>\n",
       "      <td>1.0</td>\n",
       "      <td>4.0</td>\n",
       "    </tr>\n",
       "    <tr>\n",
       "      <th>49866</th>\n",
       "      <td>8164889</td>\n",
       "      <td>19.0</td>\n",
       "      <td>238.0</td>\n",
       "      <td>34.5</td>\n",
       "      <td>F</td>\n",
       "      <td>2.0</td>\n",
       "      <td>73464.11</td>\n",
       "      <td>3.0</td>\n",
       "      <td>6.0</td>\n",
       "    </tr>\n",
       "    <tr>\n",
       "      <th>69370</th>\n",
       "      <td>9024342</td>\n",
       "      <td>6.0</td>\n",
       "      <td>77.0</td>\n",
       "      <td>22.0</td>\n",
       "      <td>U</td>\n",
       "      <td>2.0</td>\n",
       "      <td>17365.74</td>\n",
       "      <td>1.0</td>\n",
       "      <td>1.0</td>\n",
       "    </tr>\n",
       "    <tr>\n",
       "      <th>932</th>\n",
       "      <td>8479157</td>\n",
       "      <td>9.0</td>\n",
       "      <td>118.0</td>\n",
       "      <td>63.5</td>\n",
       "      <td>M</td>\n",
       "      <td>3.0</td>\n",
       "      <td>24800.83</td>\n",
       "      <td>6.0</td>\n",
       "      <td>9.0</td>\n",
       "    </tr>\n",
       "  </tbody>\n",
       "</table>\n",
       "</div>"
      ],
      "text/plain": [
       "       client_id  clnt_tenure_yr  clnt_tenure_mnth  clnt_age gendr  num_accts  \\\n",
       "46166    5775881            10.0             124.0      66.0     F        2.0   \n",
       "19457    9477401            15.0             191.0      45.5     M        2.0   \n",
       "49866    8164889            19.0             238.0      34.5     F        2.0   \n",
       "69370    9024342             6.0              77.0      22.0     U        2.0   \n",
       "932      8479157             9.0             118.0      63.5     M        3.0   \n",
       "\n",
       "             bal  calls_6_mnth  logons_6_mnth  \n",
       "46166  109408.77           0.0            4.0  \n",
       "19457   71620.07           1.0            4.0  \n",
       "49866   73464.11           3.0            6.0  \n",
       "69370   17365.74           1.0            1.0  \n",
       "932     24800.83           6.0            9.0  "
      ]
     },
     "execution_count": 1,
     "metadata": {},
     "output_type": "execute_result"
    }
   ],
   "source": [
    "#import libraries to clean data and do the merging\n",
    "\n",
    "import pandas as pd\n",
    "import numpy as np\n",
    "\n",
    "#read the data\n",
    "\n",
    "client_profiles = \"/Users/alexandreribeiro/Desktop/Ironhacks Booty/5th week/Project/Datasets/df_final_demo.csv\"\n",
    "digital_footprints_1 = \"/Users/alexandreribeiro/Desktop/Ironhacks Booty/5th week/Project/Datasets/df_final_web_data_pt_1.csv\"\n",
    "digital_footprints_2 = \"/Users/alexandreribeiro/Desktop/Ironhacks Booty/5th week/Project/Datasets/df_final_web_data_pt_2.csv\"\n",
    "experiment_roster = \"/Users/alexandreribeiro/Desktop/Ironhacks Booty/5th week/Project/Datasets/df_final_experiment_clients.csv\"\n",
    "\n",
    "#read the data\n",
    "\n",
    "df_client_profiles = pd.read_csv(client_profiles)\n",
    "\n",
    "df_client_profiles.sample(5)\n"
   ]
  },
  {
   "cell_type": "code",
   "execution_count": 6,
   "metadata": {},
   "outputs": [
    {
     "data": {
      "text/html": [
       "<div>\n",
       "<style scoped>\n",
       "    .dataframe tbody tr th:only-of-type {\n",
       "        vertical-align: middle;\n",
       "    }\n",
       "\n",
       "    .dataframe tbody tr th {\n",
       "        vertical-align: top;\n",
       "    }\n",
       "\n",
       "    .dataframe thead th {\n",
       "        text-align: right;\n",
       "    }\n",
       "</style>\n",
       "<table border=\"1\" class=\"dataframe\">\n",
       "  <thead>\n",
       "    <tr style=\"text-align: right;\">\n",
       "      <th></th>\n",
       "      <th>client_id</th>\n",
       "      <th>clnt_tenure_yr</th>\n",
       "      <th>clnt_tenure_mnth</th>\n",
       "      <th>clnt_age</th>\n",
       "      <th>gendr</th>\n",
       "      <th>num_accts</th>\n",
       "      <th>bal</th>\n",
       "      <th>calls_6_mnth</th>\n",
       "      <th>logons_6_mnth</th>\n",
       "    </tr>\n",
       "  </thead>\n",
       "  <tbody>\n",
       "    <tr>\n",
       "      <th>49789</th>\n",
       "      <td>7766714</td>\n",
       "      <td>4</td>\n",
       "      <td>58</td>\n",
       "      <td>61</td>\n",
       "      <td>M</td>\n",
       "      <td>2</td>\n",
       "      <td>628460.61</td>\n",
       "      <td>6</td>\n",
       "      <td>9</td>\n",
       "    </tr>\n",
       "    <tr>\n",
       "      <th>197</th>\n",
       "      <td>8676893</td>\n",
       "      <td>9</td>\n",
       "      <td>116</td>\n",
       "      <td>60</td>\n",
       "      <td>F</td>\n",
       "      <td>2</td>\n",
       "      <td>88968.26</td>\n",
       "      <td>1</td>\n",
       "      <td>5</td>\n",
       "    </tr>\n",
       "    <tr>\n",
       "      <th>46652</th>\n",
       "      <td>2105237</td>\n",
       "      <td>4</td>\n",
       "      <td>58</td>\n",
       "      <td>24</td>\n",
       "      <td>U</td>\n",
       "      <td>2</td>\n",
       "      <td>44361.61</td>\n",
       "      <td>1</td>\n",
       "      <td>4</td>\n",
       "    </tr>\n",
       "    <tr>\n",
       "      <th>64253</th>\n",
       "      <td>466390</td>\n",
       "      <td>8</td>\n",
       "      <td>107</td>\n",
       "      <td>43</td>\n",
       "      <td>F</td>\n",
       "      <td>2</td>\n",
       "      <td>37738.06</td>\n",
       "      <td>1</td>\n",
       "      <td>1</td>\n",
       "    </tr>\n",
       "    <tr>\n",
       "      <th>57895</th>\n",
       "      <td>5455641</td>\n",
       "      <td>7</td>\n",
       "      <td>95</td>\n",
       "      <td>48</td>\n",
       "      <td>U</td>\n",
       "      <td>2</td>\n",
       "      <td>72661.49</td>\n",
       "      <td>6</td>\n",
       "      <td>6</td>\n",
       "    </tr>\n",
       "  </tbody>\n",
       "</table>\n",
       "</div>"
      ],
      "text/plain": [
       "       client_id  clnt_tenure_yr  clnt_tenure_mnth  clnt_age gendr  num_accts  \\\n",
       "49789    7766714               4                58        61     M          2   \n",
       "197      8676893               9               116        60     F          2   \n",
       "46652    2105237               4                58        24     U          2   \n",
       "64253     466390               8               107        43     F          2   \n",
       "57895    5455641               7                95        48     U          2   \n",
       "\n",
       "             bal  calls_6_mnth  logons_6_mnth  \n",
       "49789  628460.61             6              9  \n",
       "197     88968.26             1              5  \n",
       "46652   44361.61             1              4  \n",
       "64253   37738.06             1              1  \n",
       "57895   72661.49             6              6  "
      ]
     },
     "execution_count": 6,
     "metadata": {},
     "output_type": "execute_result"
    }
   ],
   "source": [
    "df_client_profiles['clnt_tenure_yr'] = df_client_profiles['clnt_tenure_yr'].astype(int)\n",
    "df_client_profiles['clnt_tenure_mnth'] = df_client_profiles['clnt_tenure_mnth'].astype(int)\n",
    "df_client_profiles['clnt_age'] = df_client_profiles['clnt_age'].astype(int)\n",
    "df_client_profiles['calls_6_mnth'] = df_client_profiles['calls_6_mnth'].astype(int)\n",
    "df_client_profiles['logons_6_mnth'] = df_client_profiles['logons_6_mnth'].astype(int)\n",
    "df_client_profiles['num_accts'] = df_client_profiles['num_accts'].astype(int)\n",
    "\n",
    "df_client_profiles.sample(5)"
   ]
  },
  {
   "cell_type": "code",
   "execution_count": 12,
   "metadata": {},
   "outputs": [
    {
     "data": {
      "text/plain": [
       "gendr\n",
       "U    24125\n",
       "M    23724\n",
       "F    22746\n",
       "Name: count, dtype: int64"
      ]
     },
     "execution_count": 12,
     "metadata": {},
     "output_type": "execute_result"
    }
   ],
   "source": [
    "# handling different values on gendr\n",
    "\n",
    "df_client_profiles.gendr.value_counts()\n",
    "\n",
    "# includint the X values in U\n",
    "\n",
    "df_client_profiles['gendr'] = df_client_profiles['gendr'].replace('X', 'U')\n",
    "\n",
    "df_client_profiles.gendr.value_counts()"
   ]
  },
  {
   "cell_type": "code",
   "execution_count": 13,
   "metadata": {},
   "outputs": [
    {
     "data": {
      "text/plain": [
       "(70609, 9)"
      ]
     },
     "execution_count": 13,
     "metadata": {},
     "output_type": "execute_result"
    }
   ],
   "source": [
    "df_client_profiles.shape"
   ]
  },
  {
   "cell_type": "code",
   "execution_count": 2,
   "metadata": {},
   "outputs": [
    {
     "name": "stdout",
     "output_type": "stream",
     "text": [
      "<class 'pandas.core.frame.DataFrame'>\n",
      "RangeIndex: 70609 entries, 0 to 70608\n",
      "Data columns (total 9 columns):\n",
      " #   Column            Non-Null Count  Dtype  \n",
      "---  ------            --------------  -----  \n",
      " 0   client_id         70609 non-null  int64  \n",
      " 1   clnt_tenure_yr    70595 non-null  float64\n",
      " 2   clnt_tenure_mnth  70595 non-null  float64\n",
      " 3   clnt_age          70594 non-null  float64\n",
      " 4   gendr             70595 non-null  object \n",
      " 5   num_accts         70595 non-null  float64\n",
      " 6   bal               70595 non-null  float64\n",
      " 7   calls_6_mnth      70595 non-null  float64\n",
      " 8   logons_6_mnth     70595 non-null  float64\n",
      "dtypes: float64(7), int64(1), object(1)\n",
      "memory usage: 4.8+ MB\n"
     ]
    }
   ],
   "source": [
    "df_client_profiles.info()"
   ]
  },
  {
   "cell_type": "code",
   "execution_count": 5,
   "metadata": {},
   "outputs": [
    {
     "data": {
      "text/plain": [
       "client_id           0\n",
       "clnt_tenure_yr      0\n",
       "clnt_tenure_mnth    0\n",
       "clnt_age            0\n",
       "gendr               0\n",
       "num_accts           0\n",
       "bal                 0\n",
       "calls_6_mnth        0\n",
       "logons_6_mnth       0\n",
       "dtype: int64"
      ]
     },
     "execution_count": 5,
     "metadata": {},
     "output_type": "execute_result"
    }
   ],
   "source": [
    "# checking for missing values\n",
    "\n",
    "df_client_profiles.isnull().sum()"
   ]
  },
  {
   "cell_type": "code",
   "execution_count": 4,
   "metadata": {},
   "outputs": [
    {
     "data": {
      "text/plain": [
       "client_id           0\n",
       "clnt_tenure_yr      0\n",
       "clnt_tenure_mnth    0\n",
       "clnt_age            0\n",
       "gendr               0\n",
       "num_accts           0\n",
       "bal                 0\n",
       "calls_6_mnth        0\n",
       "logons_6_mnth       0\n",
       "dtype: int64"
      ]
     },
     "execution_count": 4,
     "metadata": {},
     "output_type": "execute_result"
    }
   ],
   "source": [
    "# drop the missing values\n",
    "\n",
    "df_client_profiles = df_client_profiles.dropna()\n",
    "\n",
    "df_client_profiles.isnull().sum()"
   ]
  },
  {
   "cell_type": "code",
   "execution_count": 9,
   "metadata": {},
   "outputs": [
    {
     "data": {
      "text/plain": [
       "0"
      ]
     },
     "execution_count": 9,
     "metadata": {},
     "output_type": "execute_result"
    }
   ],
   "source": [
    "# checking for duplicates   \n",
    "\n",
    "duplicates = df_client_profiles.duplicated()\n",
    "\n",
    "duplicates.sum()"
   ]
  },
  {
   "cell_type": "markdown",
   "metadata": {},
   "source": [
    "### Merging the digital_footprints_1 and digital_footprints_2 datasets before cleaning"
   ]
  },
  {
   "cell_type": "code",
   "execution_count": 7,
   "metadata": {},
   "outputs": [
    {
     "data": {
      "text/html": [
       "<div>\n",
       "<style scoped>\n",
       "    .dataframe tbody tr th:only-of-type {\n",
       "        vertical-align: middle;\n",
       "    }\n",
       "\n",
       "    .dataframe tbody tr th {\n",
       "        vertical-align: top;\n",
       "    }\n",
       "\n",
       "    .dataframe thead th {\n",
       "        text-align: right;\n",
       "    }\n",
       "</style>\n",
       "<table border=\"1\" class=\"dataframe\">\n",
       "  <thead>\n",
       "    <tr style=\"text-align: right;\">\n",
       "      <th></th>\n",
       "      <th>client_id</th>\n",
       "      <th>visitor_id</th>\n",
       "      <th>visit_id</th>\n",
       "      <th>process_step</th>\n",
       "      <th>date_time</th>\n",
       "    </tr>\n",
       "  </thead>\n",
       "  <tbody>\n",
       "    <tr>\n",
       "      <th>43115</th>\n",
       "      <td>2465411</td>\n",
       "      <td>159864630_7968564641</td>\n",
       "      <td>108733913_69527591003_427656</td>\n",
       "      <td>step_1</td>\n",
       "      <td>2017-04-18 00:03:57</td>\n",
       "    </tr>\n",
       "    <tr>\n",
       "      <th>118844</th>\n",
       "      <td>7813768</td>\n",
       "      <td>837016382_9283639675</td>\n",
       "      <td>752187745_27373231581_812601</td>\n",
       "      <td>start</td>\n",
       "      <td>2017-05-17 20:50:35</td>\n",
       "    </tr>\n",
       "    <tr>\n",
       "      <th>367541</th>\n",
       "      <td>7652267</td>\n",
       "      <td>156762456_89862542886</td>\n",
       "      <td>504214978_85623911124_656377</td>\n",
       "      <td>step_3</td>\n",
       "      <td>2017-05-24 13:43:54</td>\n",
       "    </tr>\n",
       "    <tr>\n",
       "      <th>146750</th>\n",
       "      <td>124118</td>\n",
       "      <td>377371820_20980760755</td>\n",
       "      <td>849880564_65740980596_760185</td>\n",
       "      <td>confirm</td>\n",
       "      <td>2017-06-12 01:24:00</td>\n",
       "    </tr>\n",
       "    <tr>\n",
       "      <th>284231</th>\n",
       "      <td>9063578</td>\n",
       "      <td>124600075_48237089912</td>\n",
       "      <td>538616726_63355498517_437012</td>\n",
       "      <td>confirm</td>\n",
       "      <td>2017-03-29 19:39:21</td>\n",
       "    </tr>\n",
       "  </tbody>\n",
       "</table>\n",
       "</div>"
      ],
      "text/plain": [
       "        client_id             visitor_id                      visit_id  \\\n",
       "43115     2465411   159864630_7968564641  108733913_69527591003_427656   \n",
       "118844    7813768   837016382_9283639675  752187745_27373231581_812601   \n",
       "367541    7652267  156762456_89862542886  504214978_85623911124_656377   \n",
       "146750     124118  377371820_20980760755  849880564_65740980596_760185   \n",
       "284231    9063578  124600075_48237089912  538616726_63355498517_437012   \n",
       "\n",
       "       process_step           date_time  \n",
       "43115        step_1 2017-04-18 00:03:57  \n",
       "118844        start 2017-05-17 20:50:35  \n",
       "367541       step_3 2017-05-24 13:43:54  \n",
       "146750      confirm 2017-06-12 01:24:00  \n",
       "284231      confirm 2017-03-29 19:39:21  "
      ]
     },
     "execution_count": 7,
     "metadata": {},
     "output_type": "execute_result"
    }
   ],
   "source": [
    "# Load the datasets\n",
    "\n",
    "df_digital_footprint1 = pd.read_csv(digital_footprints_1)\n",
    "df_digital_footprint2 = pd.read_csv(digital_footprints_2)\n",
    "\n",
    "# Convert date_time columns to datetime format\n",
    "\n",
    "df_digital_footprint1['date_time'] = pd.to_datetime(df_digital_footprint1['date_time'])\n",
    "df_digital_footprint2['date_time'] = pd.to_datetime(df_digital_footprint2['date_time'])\n",
    "\n",
    "# Merge the datasets\n",
    "\n",
    "df_digital_footprint = pd.concat([df_digital_footprint1, df_digital_footprint2])\n",
    "\n",
    "# Display a sample the merged dataset\n",
    "\n",
    "df_digital_footprint.sample(5)"
   ]
  },
  {
   "cell_type": "code",
   "execution_count": 8,
   "metadata": {},
   "outputs": [
    {
     "data": {
      "text/plain": [
       "client_id       0\n",
       "visitor_id      0\n",
       "visit_id        0\n",
       "process_step    0\n",
       "date_time       0\n",
       "dtype: int64"
      ]
     },
     "execution_count": 8,
     "metadata": {},
     "output_type": "execute_result"
    }
   ],
   "source": [
    "# checking for missing values\n",
    "\n",
    "df_digital_footprint.isnull().sum()"
   ]
  },
  {
   "cell_type": "code",
   "execution_count": 9,
   "metadata": {},
   "outputs": [
    {
     "data": {
      "text/plain": [
       "(755405, 5)"
      ]
     },
     "execution_count": 9,
     "metadata": {},
     "output_type": "execute_result"
    }
   ],
   "source": [
    "df_digital_footprint.shape"
   ]
  },
  {
   "cell_type": "code",
   "execution_count": 10,
   "metadata": {},
   "outputs": [
    {
     "data": {
      "text/plain": [
       "10764"
      ]
     },
     "execution_count": 10,
     "metadata": {},
     "output_type": "execute_result"
    }
   ],
   "source": [
    "# duplicates\n",
    "\n",
    "duplicates = df_digital_footprint.duplicated()\n",
    "\n",
    "duplicates.sum()"
   ]
  },
  {
   "cell_type": "code",
   "execution_count": 11,
   "metadata": {},
   "outputs": [
    {
     "data": {
      "text/html": [
       "<div>\n",
       "<style scoped>\n",
       "    .dataframe tbody tr th:only-of-type {\n",
       "        vertical-align: middle;\n",
       "    }\n",
       "\n",
       "    .dataframe tbody tr th {\n",
       "        vertical-align: top;\n",
       "    }\n",
       "\n",
       "    .dataframe thead th {\n",
       "        text-align: right;\n",
       "    }\n",
       "</style>\n",
       "<table border=\"1\" class=\"dataframe\">\n",
       "  <thead>\n",
       "    <tr style=\"text-align: right;\">\n",
       "      <th></th>\n",
       "      <th>client_id</th>\n",
       "      <th>visitor_id</th>\n",
       "      <th>visit_id</th>\n",
       "      <th>process_step</th>\n",
       "      <th>date_time</th>\n",
       "    </tr>\n",
       "  </thead>\n",
       "  <tbody>\n",
       "    <tr>\n",
       "      <th>288214</th>\n",
       "      <td>1531</td>\n",
       "      <td>934069404_34543643308</td>\n",
       "      <td>110350144_67985219545_904677</td>\n",
       "      <td>start</td>\n",
       "      <td>2017-06-02 22:32:08</td>\n",
       "    </tr>\n",
       "    <tr>\n",
       "      <th>288215</th>\n",
       "      <td>1531</td>\n",
       "      <td>934069404_34543643308</td>\n",
       "      <td>110350144_67985219545_904677</td>\n",
       "      <td>start</td>\n",
       "      <td>2017-06-02 22:32:08</td>\n",
       "    </tr>\n",
       "    <tr>\n",
       "      <th>288212</th>\n",
       "      <td>1531</td>\n",
       "      <td>934069404_34543643308</td>\n",
       "      <td>110350144_67985219545_904677</td>\n",
       "      <td>start</td>\n",
       "      <td>2017-06-02 22:32:28</td>\n",
       "    </tr>\n",
       "    <tr>\n",
       "      <th>288213</th>\n",
       "      <td>1531</td>\n",
       "      <td>934069404_34543643308</td>\n",
       "      <td>110350144_67985219545_904677</td>\n",
       "      <td>start</td>\n",
       "      <td>2017-06-02 22:32:28</td>\n",
       "    </tr>\n",
       "    <tr>\n",
       "      <th>296388</th>\n",
       "      <td>2078</td>\n",
       "      <td>585735301_21309149782</td>\n",
       "      <td>900598259_99565669243_552843</td>\n",
       "      <td>start</td>\n",
       "      <td>2017-05-06 08:29:00</td>\n",
       "    </tr>\n",
       "    <tr>\n",
       "      <th>...</th>\n",
       "      <td>...</td>\n",
       "      <td>...</td>\n",
       "      <td>...</td>\n",
       "      <td>...</td>\n",
       "      <td>...</td>\n",
       "    </tr>\n",
       "    <tr>\n",
       "      <th>119532</th>\n",
       "      <td>9998346</td>\n",
       "      <td>292425655_16607136645</td>\n",
       "      <td>189177304_69869411700_783154</td>\n",
       "      <td>step_3</td>\n",
       "      <td>2017-03-29 15:37:28</td>\n",
       "    </tr>\n",
       "    <tr>\n",
       "      <th>119533</th>\n",
       "      <td>9998346</td>\n",
       "      <td>292425655_16607136645</td>\n",
       "      <td>189177304_69869411700_783154</td>\n",
       "      <td>confirm</td>\n",
       "      <td>2017-03-29 15:37:28</td>\n",
       "    </tr>\n",
       "    <tr>\n",
       "      <th>119534</th>\n",
       "      <td>9998346</td>\n",
       "      <td>292425655_16607136645</td>\n",
       "      <td>189177304_69869411700_783154</td>\n",
       "      <td>step_3</td>\n",
       "      <td>2017-03-29 15:37:28</td>\n",
       "    </tr>\n",
       "    <tr>\n",
       "      <th>63673</th>\n",
       "      <td>9998447</td>\n",
       "      <td>747535871_38029188908</td>\n",
       "      <td>309540451_47388672022_606106</td>\n",
       "      <td>start</td>\n",
       "      <td>2017-06-03 19:17:15</td>\n",
       "    </tr>\n",
       "    <tr>\n",
       "      <th>63674</th>\n",
       "      <td>9998447</td>\n",
       "      <td>747535871_38029188908</td>\n",
       "      <td>309540451_47388672022_606106</td>\n",
       "      <td>start</td>\n",
       "      <td>2017-06-03 19:17:15</td>\n",
       "    </tr>\n",
       "  </tbody>\n",
       "</table>\n",
       "<p>21425 rows × 5 columns</p>\n",
       "</div>"
      ],
      "text/plain": [
       "        client_id             visitor_id                      visit_id  \\\n",
       "288214       1531  934069404_34543643308  110350144_67985219545_904677   \n",
       "288215       1531  934069404_34543643308  110350144_67985219545_904677   \n",
       "288212       1531  934069404_34543643308  110350144_67985219545_904677   \n",
       "288213       1531  934069404_34543643308  110350144_67985219545_904677   \n",
       "296388       2078  585735301_21309149782  900598259_99565669243_552843   \n",
       "...           ...                    ...                           ...   \n",
       "119532    9998346  292425655_16607136645  189177304_69869411700_783154   \n",
       "119533    9998346  292425655_16607136645  189177304_69869411700_783154   \n",
       "119534    9998346  292425655_16607136645  189177304_69869411700_783154   \n",
       "63673     9998447  747535871_38029188908  309540451_47388672022_606106   \n",
       "63674     9998447  747535871_38029188908  309540451_47388672022_606106   \n",
       "\n",
       "       process_step           date_time  \n",
       "288214        start 2017-06-02 22:32:08  \n",
       "288215        start 2017-06-02 22:32:08  \n",
       "288212        start 2017-06-02 22:32:28  \n",
       "288213        start 2017-06-02 22:32:28  \n",
       "296388        start 2017-05-06 08:29:00  \n",
       "...             ...                 ...  \n",
       "119532       step_3 2017-03-29 15:37:28  \n",
       "119533      confirm 2017-03-29 15:37:28  \n",
       "119534       step_3 2017-03-29 15:37:28  \n",
       "63673         start 2017-06-03 19:17:15  \n",
       "63674         start 2017-06-03 19:17:15  \n",
       "\n",
       "[21425 rows x 5 columns]"
      ]
     },
     "execution_count": 11,
     "metadata": {},
     "output_type": "execute_result"
    }
   ],
   "source": [
    "#show duplicates for the same client_id\n",
    "\n",
    "df_digital_footprint[df_digital_footprint.duplicated(subset=['client_id', 'date_time'], keep=False)].sort_values(by=['client_id', 'date_time'])"
   ]
  },
  {
   "cell_type": "code",
   "execution_count": 12,
   "metadata": {},
   "outputs": [
    {
     "data": {
      "text/plain": [
       "10764"
      ]
     },
     "execution_count": 12,
     "metadata": {},
     "output_type": "execute_result"
    }
   ],
   "source": [
    "# checking duplicates when all columns are equal\n",
    "\n",
    "duplicates = df_digital_footprint.duplicated()\n",
    "\n",
    "duplicates.sum()"
   ]
  },
  {
   "cell_type": "code",
   "execution_count": 13,
   "metadata": {},
   "outputs": [
    {
     "data": {
      "text/plain": [
       "(744641, 5)"
      ]
     },
     "execution_count": 13,
     "metadata": {},
     "output_type": "execute_result"
    }
   ],
   "source": [
    "# Since we are dealing with genuine duplicates, we will drop them  \n",
    "\n",
    "df_digital_footprint = df_digital_footprint.drop_duplicates()\n",
    "\n",
    "df_digital_footprint.shape\n",
    "\n"
   ]
  },
  {
   "cell_type": "markdown",
   "metadata": {},
   "source": [
    "### Experiment Roster (final_experiment_clients.csv)"
   ]
  },
  {
   "cell_type": "code",
   "execution_count": 28,
   "metadata": {},
   "outputs": [
    {
     "data": {
      "text/html": [
       "<div>\n",
       "<style scoped>\n",
       "    .dataframe tbody tr th:only-of-type {\n",
       "        vertical-align: middle;\n",
       "    }\n",
       "\n",
       "    .dataframe tbody tr th {\n",
       "        vertical-align: top;\n",
       "    }\n",
       "\n",
       "    .dataframe thead th {\n",
       "        text-align: right;\n",
       "    }\n",
       "</style>\n",
       "<table border=\"1\" class=\"dataframe\">\n",
       "  <thead>\n",
       "    <tr style=\"text-align: right;\">\n",
       "      <th></th>\n",
       "      <th>client_id</th>\n",
       "      <th>Variation</th>\n",
       "    </tr>\n",
       "  </thead>\n",
       "  <tbody>\n",
       "    <tr>\n",
       "      <th>32482</th>\n",
       "      <td>5296140</td>\n",
       "      <td>Control</td>\n",
       "    </tr>\n",
       "    <tr>\n",
       "      <th>48547</th>\n",
       "      <td>3928076</td>\n",
       "      <td>Control</td>\n",
       "    </tr>\n",
       "    <tr>\n",
       "      <th>38496</th>\n",
       "      <td>1936892</td>\n",
       "      <td>Test</td>\n",
       "    </tr>\n",
       "    <tr>\n",
       "      <th>9523</th>\n",
       "      <td>819230</td>\n",
       "      <td>Control</td>\n",
       "    </tr>\n",
       "    <tr>\n",
       "      <th>7013</th>\n",
       "      <td>5754482</td>\n",
       "      <td>Test</td>\n",
       "    </tr>\n",
       "  </tbody>\n",
       "</table>\n",
       "</div>"
      ],
      "text/plain": [
       "       client_id Variation\n",
       "32482    5296140   Control\n",
       "48547    3928076   Control\n",
       "38496    1936892      Test\n",
       "9523      819230   Control\n",
       "7013     5754482      Test"
      ]
     },
     "execution_count": 28,
     "metadata": {},
     "output_type": "execute_result"
    }
   ],
   "source": [
    "#load the experiment roster\n",
    "\n",
    "df_experiment_roster = pd.read_csv(experiment_roster)\n",
    "\n",
    "df_experiment_roster.sample(5)"
   ]
  },
  {
   "cell_type": "code",
   "execution_count": 39,
   "metadata": {},
   "outputs": [
    {
     "data": {
      "text/plain": [
       "(50500, 2)"
      ]
     },
     "execution_count": 39,
     "metadata": {},
     "output_type": "execute_result"
    }
   ],
   "source": [
    "df_experiment_roster.shape"
   ]
  },
  {
   "cell_type": "code",
   "execution_count": 30,
   "metadata": {},
   "outputs": [
    {
     "data": {
      "text/plain": [
       "client_id        0\n",
       "Variation    20109\n",
       "dtype: int64"
      ]
     },
     "execution_count": 30,
     "metadata": {},
     "output_type": "execute_result"
    }
   ],
   "source": [
    "# checking for missing values\n",
    "\n",
    "df_experiment_roster.isnull().sum()"
   ]
  },
  {
   "cell_type": "code",
   "execution_count": 32,
   "metadata": {},
   "outputs": [
    {
     "data": {
      "text/plain": [
       "Variation\n",
       "Test       26968\n",
       "Control    23532\n",
       "Name: count, dtype: int64"
      ]
     },
     "execution_count": 32,
     "metadata": {},
     "output_type": "execute_result"
    }
   ],
   "source": [
    "# checking values for the column variation\n",
    "\n",
    "df_experiment_roster.Variation.value_counts()"
   ]
  },
  {
   "cell_type": "code",
   "execution_count": 33,
   "metadata": {},
   "outputs": [
    {
     "data": {
      "text/plain": [
       "0"
      ]
     },
     "execution_count": 33,
     "metadata": {},
     "output_type": "execute_result"
    }
   ],
   "source": [
    "# checking for duplicates\n",
    "\n",
    "duplicates = df_experiment_roster.duplicated()\n",
    "\n",
    "duplicates.sum()"
   ]
  },
  {
   "cell_type": "code",
   "execution_count": 35,
   "metadata": {},
   "outputs": [
    {
     "data": {
      "text/plain": [
       "0"
      ]
     },
     "execution_count": 35,
     "metadata": {},
     "output_type": "execute_result"
    }
   ],
   "source": [
    "# checking if we have repeated client_ids\n",
    "\n",
    "df_experiment_roster['client_id'].duplicated().sum()\n",
    "\n"
   ]
  },
  {
   "cell_type": "code",
   "execution_count": 38,
   "metadata": {},
   "outputs": [
    {
     "data": {
      "text/plain": [
       "client_id    0\n",
       "Variation    0\n",
       "dtype: int64"
      ]
     },
     "execution_count": 38,
     "metadata": {},
     "output_type": "execute_result"
    }
   ],
   "source": [
    "# Dropping missing values\n",
    "\n",
    "df_experiment_roster = df_experiment_roster.dropna()\n",
    "\n",
    "df_experiment_roster.isnull().sum()\n"
   ]
  },
  {
   "cell_type": "markdown",
   "metadata": {},
   "source": [
    "## Merging the 3 datasets (client_profiles.csv, digital_footprints.csv, final_experiment_clients.csv)"
   ]
  },
  {
   "cell_type": "code",
   "execution_count": null,
   "metadata": {},
   "outputs": [],
   "source": [
    "# Merging the 3 datasets\n",
    "\n",
    "df_client_profiles\n",
    "\n",
    "df_digital_footprint\n",
    "\n",
    "df_experiment_roster\n"
   ]
  },
  {
   "cell_type": "code",
   "execution_count": 40,
   "metadata": {},
   "outputs": [],
   "source": [
    "# Merge df_experiment_clients_cleaned with df_demo_cleaned\n",
    "\n",
    "df_merged = pd.merge(df_client_profiles, df_experiment_roster, on='client_id', how='inner')"
   ]
  },
  {
   "cell_type": "code",
   "execution_count": 42,
   "metadata": {},
   "outputs": [
    {
     "data": {
      "text/html": [
       "<div>\n",
       "<style scoped>\n",
       "    .dataframe tbody tr th:only-of-type {\n",
       "        vertical-align: middle;\n",
       "    }\n",
       "\n",
       "    .dataframe tbody tr th {\n",
       "        vertical-align: top;\n",
       "    }\n",
       "\n",
       "    .dataframe thead th {\n",
       "        text-align: right;\n",
       "    }\n",
       "</style>\n",
       "<table border=\"1\" class=\"dataframe\">\n",
       "  <thead>\n",
       "    <tr style=\"text-align: right;\">\n",
       "      <th></th>\n",
       "      <th>client_id</th>\n",
       "      <th>clnt_tenure_yr</th>\n",
       "      <th>clnt_tenure_mnth</th>\n",
       "      <th>clnt_age</th>\n",
       "      <th>gendr</th>\n",
       "      <th>num_accts</th>\n",
       "      <th>bal</th>\n",
       "      <th>calls_6_mnth</th>\n",
       "      <th>logons_6_mnth</th>\n",
       "      <th>Variation</th>\n",
       "      <th>visitor_id</th>\n",
       "      <th>visit_id</th>\n",
       "      <th>process_step</th>\n",
       "      <th>date_time</th>\n",
       "    </tr>\n",
       "  </thead>\n",
       "  <tbody>\n",
       "    <tr>\n",
       "      <th>52967</th>\n",
       "      <td>3707510</td>\n",
       "      <td>5</td>\n",
       "      <td>64</td>\n",
       "      <td>27</td>\n",
       "      <td>U</td>\n",
       "      <td>3</td>\n",
       "      <td>66145.68</td>\n",
       "      <td>4</td>\n",
       "      <td>7</td>\n",
       "      <td>Test</td>\n",
       "      <td>557922452_4802234317</td>\n",
       "      <td>549102425_70713811638_244044</td>\n",
       "      <td>step_1</td>\n",
       "      <td>2017-03-31 23:06:23</td>\n",
       "    </tr>\n",
       "    <tr>\n",
       "      <th>165904</th>\n",
       "      <td>753431</td>\n",
       "      <td>4</td>\n",
       "      <td>58</td>\n",
       "      <td>35</td>\n",
       "      <td>U</td>\n",
       "      <td>2</td>\n",
       "      <td>46636.92</td>\n",
       "      <td>6</td>\n",
       "      <td>9</td>\n",
       "      <td>Test</td>\n",
       "      <td>266826656_69372724338</td>\n",
       "      <td>971623695_49167919982_71153</td>\n",
       "      <td>confirm</td>\n",
       "      <td>2017-04-12 12:02:16</td>\n",
       "    </tr>\n",
       "    <tr>\n",
       "      <th>226057</th>\n",
       "      <td>682400</td>\n",
       "      <td>12</td>\n",
       "      <td>151</td>\n",
       "      <td>55</td>\n",
       "      <td>F</td>\n",
       "      <td>2</td>\n",
       "      <td>38175.00</td>\n",
       "      <td>5</td>\n",
       "      <td>8</td>\n",
       "      <td>Test</td>\n",
       "      <td>111573208_2851624347</td>\n",
       "      <td>571932054_36809436211_992026</td>\n",
       "      <td>confirm</td>\n",
       "      <td>2017-05-28 18:02:22</td>\n",
       "    </tr>\n",
       "    <tr>\n",
       "      <th>216807</th>\n",
       "      <td>3833380</td>\n",
       "      <td>15</td>\n",
       "      <td>183</td>\n",
       "      <td>52</td>\n",
       "      <td>F</td>\n",
       "      <td>2</td>\n",
       "      <td>23936.78</td>\n",
       "      <td>2</td>\n",
       "      <td>5</td>\n",
       "      <td>Control</td>\n",
       "      <td>306186616_27853449480</td>\n",
       "      <td>399848468_48378719228_7879</td>\n",
       "      <td>start</td>\n",
       "      <td>2017-05-15 16:36:51</td>\n",
       "    </tr>\n",
       "    <tr>\n",
       "      <th>257083</th>\n",
       "      <td>6666495</td>\n",
       "      <td>9</td>\n",
       "      <td>112</td>\n",
       "      <td>30</td>\n",
       "      <td>M</td>\n",
       "      <td>2</td>\n",
       "      <td>78663.00</td>\n",
       "      <td>6</td>\n",
       "      <td>9</td>\n",
       "      <td>Test</td>\n",
       "      <td>752624787_70761041208</td>\n",
       "      <td>805312647_58120112371_367424</td>\n",
       "      <td>step_1</td>\n",
       "      <td>2017-04-05 11:16:31</td>\n",
       "    </tr>\n",
       "  </tbody>\n",
       "</table>\n",
       "</div>"
      ],
      "text/plain": [
       "        client_id  clnt_tenure_yr  clnt_tenure_mnth  clnt_age gendr  \\\n",
       "52967     3707510               5                64        27     U   \n",
       "165904     753431               4                58        35     U   \n",
       "226057     682400              12               151        55     F   \n",
       "216807    3833380              15               183        52     F   \n",
       "257083    6666495               9               112        30     M   \n",
       "\n",
       "        num_accts       bal  calls_6_mnth  logons_6_mnth Variation  \\\n",
       "52967           3  66145.68             4              7      Test   \n",
       "165904          2  46636.92             6              9      Test   \n",
       "226057          2  38175.00             5              8      Test   \n",
       "216807          2  23936.78             2              5   Control   \n",
       "257083          2  78663.00             6              9      Test   \n",
       "\n",
       "                   visitor_id                      visit_id process_step  \\\n",
       "52967    557922452_4802234317  549102425_70713811638_244044       step_1   \n",
       "165904  266826656_69372724338   971623695_49167919982_71153      confirm   \n",
       "226057   111573208_2851624347  571932054_36809436211_992026      confirm   \n",
       "216807  306186616_27853449480    399848468_48378719228_7879        start   \n",
       "257083  752624787_70761041208  805312647_58120112371_367424       step_1   \n",
       "\n",
       "                 date_time  \n",
       "52967  2017-03-31 23:06:23  \n",
       "165904 2017-04-12 12:02:16  \n",
       "226057 2017-05-28 18:02:22  \n",
       "216807 2017-05-15 16:36:51  \n",
       "257083 2017-04-05 11:16:31  "
      ]
     },
     "execution_count": 42,
     "metadata": {},
     "output_type": "execute_result"
    }
   ],
   "source": [
    "# Merge the result with df_web_data_cleaned\n",
    "\n",
    "df_merged_final = pd.merge(df_merged, df_digital_footprint, on='client_id', how='inner')\n",
    "\n",
    "df_merged_final.sample(5)"
   ]
  },
  {
   "cell_type": "code",
   "execution_count": 48,
   "metadata": {},
   "outputs": [
    {
     "data": {
      "text/plain": [
       "(317123, 14)"
      ]
     },
     "execution_count": 48,
     "metadata": {},
     "output_type": "execute_result"
    }
   ],
   "source": [
    "df_merged_final.shape"
   ]
  },
  {
   "cell_type": "code",
   "execution_count": 49,
   "metadata": {},
   "outputs": [],
   "source": [
    "# export the final dataset\n",
    "\n",
    "df_merged_final.to_csv(\"/Users/alexandreribeiro/Desktop/Ironhacks Booty/5th week/Project/Datasets/df_merged_final.csv\", index=False)\n"
   ]
  }
 ],
 "metadata": {
  "kernelspec": {
   "display_name": "env_test",
   "language": "python",
   "name": "python3"
  },
  "language_info": {
   "codemirror_mode": {
    "name": "ipython",
    "version": 3
   },
   "file_extension": ".py",
   "mimetype": "text/x-python",
   "name": "python",
   "nbconvert_exporter": "python",
   "pygments_lexer": "ipython3",
   "version": "3.11.9"
  }
 },
 "nbformat": 4,
 "nbformat_minor": 2
}
