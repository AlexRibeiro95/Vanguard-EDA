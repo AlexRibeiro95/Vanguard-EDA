{
 "cells": [
  {
   "cell_type": "markdown",
   "metadata": {},
   "source": [
    "# Hypothesis testing"
   ]
  },
  {
   "cell_type": "markdown",
   "metadata": {},
   "source": [
    "### **1. Hypothesis: Completion Rate**\n",
    "\n",
    "**Objective:** Determine if the difference in completion rates between the Test and Control groups is statistically significant.\n",
    "\n",
    "**Hypotheses:**\n",
    "\n",
    "•\t**Null Hypothesis (H0):** There is no significant difference in completion rates between the Test and Control groups.\n",
    "\n",
    "•\t**Alternative Hypothesis (H1):** The completion rate is significantly higher in the Test group compared to the Control group."
   ]
  },
  {
   "cell_type": "code",
   "execution_count": 10,
   "metadata": {},
   "outputs": [],
   "source": [
    "# import libraries\n",
    "\n",
    "import pandas as pd\n",
    "from scipy.stats import chi2_contingency\n",
    "\n",
    "# import data\n",
    "\n",
    "test_data = pd.read_csv('/Users/alexandreribeiro/Desktop/Ironhacks Booty/5th week/Project/Datasets/df_test_random.csv')\n",
    "\n",
    "control_data = pd.read_csv('/Users/alexandreribeiro/Desktop/Ironhacks Booty/5th week/Project/Datasets/df_control_random.csv')\n"
   ]
  },
  {
   "cell_type": "markdown",
   "metadata": {},
   "source": [
    "### Explanation:\n",
    "\n",
    "We chose the Chi-Square test for the following reasons:\n",
    "\n",
    "1.\tCategorical Data: The completion rate is a categorical variable, as it indicates whether a user completed the process (yes/no).\n",
    "\n",
    "2.\tComparison of Proportions: The Chi-Square test is suitable for comparing the proportions of categorical outcomes between two groups (Test and Control)."
   ]
  },
  {
   "cell_type": "code",
   "execution_count": 11,
   "metadata": {},
   "outputs": [
    {
     "name": "stdout",
     "output_type": "stream",
     "text": [
      "Test Group Completion Rate: 14.358\n",
      "Control Group Completion Rate: 12.272\n"
     ]
    },
    {
     "data": {
      "text/html": [
       "<div>\n",
       "<style scoped>\n",
       "    .dataframe tbody tr th:only-of-type {\n",
       "        vertical-align: middle;\n",
       "    }\n",
       "\n",
       "    .dataframe tbody tr th {\n",
       "        vertical-align: top;\n",
       "    }\n",
       "\n",
       "    .dataframe thead th {\n",
       "        text-align: right;\n",
       "    }\n",
       "</style>\n",
       "<table border=\"1\" class=\"dataframe\">\n",
       "  <thead>\n",
       "    <tr style=\"text-align: right;\">\n",
       "      <th>col_0</th>\n",
       "      <th>False</th>\n",
       "      <th>True</th>\n",
       "    </tr>\n",
       "    <tr>\n",
       "      <th>row_0</th>\n",
       "      <th></th>\n",
       "      <th></th>\n",
       "    </tr>\n",
       "  </thead>\n",
       "  <tbody>\n",
       "    <tr>\n",
       "      <th>Control</th>\n",
       "      <td>87728</td>\n",
       "      <td>12272</td>\n",
       "    </tr>\n",
       "    <tr>\n",
       "      <th>Test</th>\n",
       "      <td>85642</td>\n",
       "      <td>14358</td>\n",
       "    </tr>\n",
       "  </tbody>\n",
       "</table>\n",
       "</div>"
      ],
      "text/plain": [
       "col_0    False  True \n",
       "row_0                \n",
       "Control  87728  12272\n",
       "Test     85642  14358"
      ]
     },
     "execution_count": 11,
     "metadata": {},
     "output_type": "execute_result"
    }
   ],
   "source": [
    "# Calculate completion rates\n",
    "\n",
    "completion_rate_test = (test_data['process_step'] == 'confirm').mean()\n",
    "completion_rate_control = (control_data['process_step'] == 'confirm').mean()\n",
    "\n",
    "print(f\"Test Group Completion Rate: {completion_rate_test * 100}\")\n",
    "print(f\"Control Group Completion Rate: {completion_rate_control * 100}\")\n",
    "\n",
    "# Create a contingency table for the Chi-Square test\n",
    "\n",
    "contingency_table = pd.crosstab(pd.Series(['Test']*len(test_data) + ['Control']*len(control_data)), \n",
    "                                pd.Series((test_data['process_step'] == 'confirm').tolist() + \n",
    "                                          (control_data['process_step'] == 'confirm').tolist()))\n",
    "\n",
    "contingency_table"
   ]
  },
  {
   "cell_type": "code",
   "execution_count": 12,
   "metadata": {},
   "outputs": [
    {
     "name": "stdout",
     "output_type": "stream",
     "text": [
      "Chi-Square Statistic: 188.32023986260222, P-value: 7.395963406364342e-43\n"
     ]
    }
   ],
   "source": [
    "# Perform the Chi-Square test\n",
    "\n",
    "chi2, p, _, _ = chi2_contingency(contingency_table) #the 3rd and 4th outputs are the expected frequencies and degrees of freedom\n",
    "\n",
    "print(f\"Chi-Square Statistic: {chi2}, P-value: {p}\")"
   ]
  },
  {
   "cell_type": "markdown",
   "metadata": {},
   "source": [
    "### Conclusions:\n",
    "\n",
    "1.\tChi-Square Statistic:\n",
    "\n",
    "The Chi-Square statistic of 188.32 is quite high, indicating a significant difference between the observed and expected frequencies of completion rates in the Test and Control groups.\n",
    "\n",
    "2.\tP-value:\n",
    "\n",
    "The extremely low p-value (7.39e-43) is much smaller than the conventional significance level of 0.05. This means we reject the null hypothesis with high confidence.\n",
    "\n",
    "Conclusion:\n",
    "\n",
    "- Significant Difference: There is a statistically significant difference in completion rates between the Test and Control groups.\n",
    "\t\t\n",
    "- Higher Completion Rate in Test Group: Given the significantly lower p-value, we can conclude that the new design (Test group) has a significantly higher completion rate compared to the old design (Control group).\n",
    "\n",
    "Summary of Hypothesis 1: Completion Rate\n",
    "\n",
    "Objective: Determine if the difference in completion rates between the Test and Control groups is statistically significant.\n",
    "\n",
    "Hypotheses:\n",
    "\n",
    "- Null Hypothesis (H0): There is no significant difference in completion rates between the Test and Control groups.\n",
    "- Alternative Hypothesis (H1): The completion rate is significantly higher in the Test group compared to the Control group.\n",
    "\n",
    "Results:\n",
    "\n",
    "- Test Group Completion Rate: 0.14225 (14.225%)\n",
    "- Control Group Completion Rate: 0.12303 (12.303%)\n",
    "- Chi-Square Statistic: 188.32\n",
    "- P-value: 7.39e-43\n",
    "\n",
    "Conclusion:\n",
    "\n",
    "- Reject H0: The null hypothesis is rejected.\n",
    "\n",
    "- Significant Increase: The completion rate in the Test group is significantly higher than in the Control group."
   ]
  },
  {
   "cell_type": "markdown",
   "metadata": {},
   "source": [
    "### **2. Hypothesis: Completion Rate with Cost-Effectiveness Threshold**\n",
    "\n",
    "**Objective:** Ensure that the observed increase in completion rate from the A/B test meets or exceeds a 5% threshold for cost-effectiveness.\n",
    "\n",
    "**Hypotheses:**\n",
    "\n",
    "•\t**Null Hypothesis (H0):** The increase in completion rate is less than 5%.\n",
    "\n",
    "•\t**Alternative Hypothesis (H1):** The increase in completion rate is at least 5%.\n",
    "\n",
    "**Threshold:** Minimum increase of 5% in completion rate to justify the costs of the new design."
   ]
  }
 ],
 "metadata": {
  "kernelspec": {
   "display_name": "env_test",
   "language": "python",
   "name": "python3"
  },
  "language_info": {
   "codemirror_mode": {
    "name": "ipython",
    "version": 3
   },
   "file_extension": ".py",
   "mimetype": "text/x-python",
   "name": "python",
   "nbconvert_exporter": "python",
   "pygments_lexer": "ipython3",
   "version": "3.11.9"
  }
 },
 "nbformat": 4,
 "nbformat_minor": 2
}
