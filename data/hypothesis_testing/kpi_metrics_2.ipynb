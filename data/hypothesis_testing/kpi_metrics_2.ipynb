{
 "cells": [
  {
   "cell_type": "markdown",
   "metadata": {},
   "source": [
    "# KPIs & Metrics"
   ]
  },
  {
   "cell_type": "markdown",
   "metadata": {},
   "source": [
    "To ensure a fair and accurate comparison between the Control and Test variations when calculating KPIs, we decided to use the same sample size for both groups, 100 000 values.\n",
    "\n",
    "Basically, picking a random sample for both groups we eliminate bias, our test or analysis is more valid because they have equal size and gives better impression in compabarability since the differences observered are due to variation and not on the sample size."
   ]
  },
  {
   "cell_type": "code",
   "execution_count": 2,
   "metadata": {},
   "outputs": [
    {
     "data": {
      "text/html": [
       "<div>\n",
       "<style scoped>\n",
       "    .dataframe tbody tr th:only-of-type {\n",
       "        vertical-align: middle;\n",
       "    }\n",
       "\n",
       "    .dataframe tbody tr th {\n",
       "        vertical-align: top;\n",
       "    }\n",
       "\n",
       "    .dataframe thead th {\n",
       "        text-align: right;\n",
       "    }\n",
       "</style>\n",
       "<table border=\"1\" class=\"dataframe\">\n",
       "  <thead>\n",
       "    <tr style=\"text-align: right;\">\n",
       "      <th></th>\n",
       "      <th>client_id</th>\n",
       "      <th>clnt_tenure_yr</th>\n",
       "      <th>clnt_tenure_mnth</th>\n",
       "      <th>clnt_age</th>\n",
       "      <th>gender</th>\n",
       "      <th>num_accts</th>\n",
       "      <th>balance</th>\n",
       "      <th>calls_6_mnth</th>\n",
       "      <th>logons_6_mnth</th>\n",
       "      <th>variation</th>\n",
       "      <th>visitor_id</th>\n",
       "      <th>visit_id</th>\n",
       "      <th>process_step</th>\n",
       "      <th>date_time</th>\n",
       "      <th>log_balance</th>\n",
       "    </tr>\n",
       "  </thead>\n",
       "  <tbody>\n",
       "    <tr>\n",
       "      <th>0</th>\n",
       "      <td>836976</td>\n",
       "      <td>6</td>\n",
       "      <td>73</td>\n",
       "      <td>60</td>\n",
       "      <td>U</td>\n",
       "      <td>2</td>\n",
       "      <td>45105.3</td>\n",
       "      <td>6</td>\n",
       "      <td>9</td>\n",
       "      <td>Test</td>\n",
       "      <td>427070339_1413275162</td>\n",
       "      <td>228976764_46825473280_96584</td>\n",
       "      <td>confirm</td>\n",
       "      <td>2017-04-02 11:51:13</td>\n",
       "      <td>10.716777</td>\n",
       "    </tr>\n",
       "    <tr>\n",
       "      <th>1</th>\n",
       "      <td>836976</td>\n",
       "      <td>6</td>\n",
       "      <td>73</td>\n",
       "      <td>60</td>\n",
       "      <td>U</td>\n",
       "      <td>2</td>\n",
       "      <td>45105.3</td>\n",
       "      <td>6</td>\n",
       "      <td>9</td>\n",
       "      <td>Test</td>\n",
       "      <td>427070339_1413275162</td>\n",
       "      <td>228976764_46825473280_96584</td>\n",
       "      <td>confirm</td>\n",
       "      <td>2017-04-02 11:47:50</td>\n",
       "      <td>10.716777</td>\n",
       "    </tr>\n",
       "    <tr>\n",
       "      <th>2</th>\n",
       "      <td>836976</td>\n",
       "      <td>6</td>\n",
       "      <td>73</td>\n",
       "      <td>60</td>\n",
       "      <td>U</td>\n",
       "      <td>2</td>\n",
       "      <td>45105.3</td>\n",
       "      <td>6</td>\n",
       "      <td>9</td>\n",
       "      <td>Test</td>\n",
       "      <td>427070339_1413275162</td>\n",
       "      <td>228976764_46825473280_96584</td>\n",
       "      <td>confirm</td>\n",
       "      <td>2017-04-02 11:46:45</td>\n",
       "      <td>10.716777</td>\n",
       "    </tr>\n",
       "    <tr>\n",
       "      <th>3</th>\n",
       "      <td>836976</td>\n",
       "      <td>6</td>\n",
       "      <td>73</td>\n",
       "      <td>60</td>\n",
       "      <td>U</td>\n",
       "      <td>2</td>\n",
       "      <td>45105.3</td>\n",
       "      <td>6</td>\n",
       "      <td>9</td>\n",
       "      <td>Test</td>\n",
       "      <td>427070339_1413275162</td>\n",
       "      <td>228976764_46825473280_96584</td>\n",
       "      <td>step_3</td>\n",
       "      <td>2017-04-02 11:23:08</td>\n",
       "      <td>10.716777</td>\n",
       "    </tr>\n",
       "    <tr>\n",
       "      <th>4</th>\n",
       "      <td>836976</td>\n",
       "      <td>6</td>\n",
       "      <td>73</td>\n",
       "      <td>60</td>\n",
       "      <td>U</td>\n",
       "      <td>2</td>\n",
       "      <td>45105.3</td>\n",
       "      <td>6</td>\n",
       "      <td>9</td>\n",
       "      <td>Test</td>\n",
       "      <td>427070339_1413275162</td>\n",
       "      <td>228976764_46825473280_96584</td>\n",
       "      <td>step_2</td>\n",
       "      <td>2017-04-02 11:22:24</td>\n",
       "      <td>10.716777</td>\n",
       "    </tr>\n",
       "  </tbody>\n",
       "</table>\n",
       "</div>"
      ],
      "text/plain": [
       "   client_id  clnt_tenure_yr  clnt_tenure_mnth  clnt_age gender  num_accts  \\\n",
       "0     836976               6                73        60      U          2   \n",
       "1     836976               6                73        60      U          2   \n",
       "2     836976               6                73        60      U          2   \n",
       "3     836976               6                73        60      U          2   \n",
       "4     836976               6                73        60      U          2   \n",
       "\n",
       "   balance  calls_6_mnth  logons_6_mnth variation            visitor_id  \\\n",
       "0  45105.3             6              9      Test  427070339_1413275162   \n",
       "1  45105.3             6              9      Test  427070339_1413275162   \n",
       "2  45105.3             6              9      Test  427070339_1413275162   \n",
       "3  45105.3             6              9      Test  427070339_1413275162   \n",
       "4  45105.3             6              9      Test  427070339_1413275162   \n",
       "\n",
       "                      visit_id process_step           date_time  log_balance  \n",
       "0  228976764_46825473280_96584      confirm 2017-04-02 11:51:13    10.716777  \n",
       "1  228976764_46825473280_96584      confirm 2017-04-02 11:47:50    10.716777  \n",
       "2  228976764_46825473280_96584      confirm 2017-04-02 11:46:45    10.716777  \n",
       "3  228976764_46825473280_96584       step_3 2017-04-02 11:23:08    10.716777  \n",
       "4  228976764_46825473280_96584       step_2 2017-04-02 11:22:24    10.716777  "
      ]
     },
     "execution_count": 2,
     "metadata": {},
     "output_type": "execute_result"
    }
   ],
   "source": [
    "import pandas as pd\n",
    "import matplotlib.pyplot as plt\n",
    "\n",
    "# Load the CSV file\n",
    "file_path = '/Users/alexandreribeiro/Desktop/Ironhacks Booty/5th week/Project/Datasets/df_cleaned.csv'\n",
    "df_cleaned = pd.read_csv(file_path)\n",
    "\n",
    "# Convert date_time to datetime\n",
    "df_cleaned['date_time'] = pd.to_datetime(df_cleaned['date_time'])\n",
    "\n",
    "# Display the first few rows of the dataframe to understand its structure\n",
    "df_cleaned.head()"
   ]
  },
  {
   "cell_type": "code",
   "execution_count": 3,
   "metadata": {},
   "outputs": [],
   "source": [
    "# Define sample size\n",
    "sample_size = 100000\n",
    "\n",
    "# Sample the Control group\n",
    "df_control = df_cleaned[df_cleaned['variation'] == 'Control'].sample(n=sample_size, random_state=42)\n",
    "\n",
    "# Sample the Test group\n",
    "df_test = df_cleaned[df_cleaned['variation'] == 'Test'].sample(n=sample_size, random_state=42)"
   ]
  },
  {
   "cell_type": "code",
   "execution_count": 4,
   "metadata": {},
   "outputs": [],
   "source": [
    "#export the dataframes to csv\n",
    "df_test.to_csv('C:\\\\Users\\\\USER\\\\Downloads\\\\df_test_random.csv', index=False)\n",
    "df_control.to_csv('C:\\\\Users\\\\USER\\\\Downloads\\\\df_control_random.csv', index=False)"
   ]
  },
  {
   "cell_type": "markdown",
   "metadata": {},
   "source": [
    "### Completion Rate\n",
    "*Proportion of users reaching the ‘confirm’ step in the old and new design*"
   ]
  },
  {
   "cell_type": "code",
   "execution_count": 5,
   "metadata": {},
   "outputs": [
    {
     "name": "stdout",
     "output_type": "stream",
     "text": [
      "Completion rate by variation:\n",
      "Control: 45.6 %\n",
      "Test: 48.0 %\n"
     ]
    }
   ],
   "source": [
    "# Calculate the completion rate for both Test and Control groups\n",
    "completion_rate_control = df_control[df_control['process_step'] == 'confirm'].shape[0] / df_control['visit_id'].nunique()\n",
    "completion_rate_test = df_test[df_test['process_step'] == 'confirm'].shape[0] / df_test['visit_id'].nunique()\n",
    "\n",
    "#Print the completion rate in percentage round by 1 decimal and separated by variation\n",
    "print('Completion rate by variation:')\n",
    "print('Control:',round(completion_rate_control * 100, 1),'%')\n",
    "print('Test:', round(completion_rate_test * 100, 1),'%')"
   ]
  },
  {
   "cell_type": "code",
   "execution_count": 29,
   "metadata": {},
   "outputs": [
    {
     "data": {
      "image/png": "[encoded data removed]",
      "text/plain": [
       "<Figure size 640x480 with 1 Axes>"
      ]
     },
     "metadata": {},
     "output_type": "display_data"
    }
   ],
   "source": [
    "#Graphical representation of the completion rate by variation, completion rate scale values in %\n",
    "plt.bar(['Control', 'Test'], [completion_rate_control * 100, completion_rate_test * 100])\n",
    "plt.ylabel('Completion rate (%)')\n",
    "plt.title('Completion rate by variation')\n",
    "plt.show()"
   ]
  },
  {
   "cell_type": "markdown",
   "metadata": {},
   "source": [
    "Completion rate by variation:\n",
    "- Control: 45.6 %\n",
    "- Test: 48.0 %\n",
    "\n",
    "**Conclusion**: The completion rate for the Test group is higher than that of the Control group, indicating a positive impact of the new design on user success rates. The 2.4 percentage point increase suggests that the new design is more effective in guiding users to complete the process."
   ]
  },
  {
   "cell_type": "markdown",
   "metadata": {},
   "source": [
    "### Time Spent on Each Step\n",
    "*Average duration on each step by design*"
   ]
  },
  {
   "cell_type": "markdown",
   "metadata": {},
   "source": [
    "- Control (Old Version)"
   ]
  },
  {
   "cell_type": "code",
   "execution_count": 30,
   "metadata": {},
   "outputs": [
    {
     "name": "stdout",
     "output_type": "stream",
     "text": [
      "Control Group Average Time Spent on Each Step:\n",
      "  process_step    formatted_duration  step_duration_seconds\n",
      "0      confirm  4 minutes 44 seconds                  284.0\n",
      "1        start  3 minutes 42 seconds                  222.0\n",
      "2       step_1  3 minutes 34 seconds                  214.0\n",
      "3       step_2  3 minutes 48 seconds                  228.0\n",
      "4       step_3  3 minutes 36 seconds                  216.0\n"
     ]
    }
   ],
   "source": [
    "# Calculate Average Time Spent on Each Step for Control group\n",
    "df_control['next_date_time'] = df_control.groupby('visit_id')['date_time'].shift(-1)\n",
    "df_control['step_duration'] = df_control['next_date_time'] - df_control['date_time']\n",
    "\n",
    "# Remove any negative durations\n",
    "df_control = df_control[df_control['step_duration'] >= pd.Timedelta(0)]\n",
    "\n",
    "average_time_spent_control = df_control.groupby('process_step')['step_duration'].mean().reset_index()\n",
    "\n",
    "# Convert step_duration to total seconds for calculation and round\n",
    "average_time_spent_control['step_duration_seconds'] = average_time_spent_control['step_duration'].dt.total_seconds().round(0)\n",
    "\n",
    "# Convert step_duration_seconds to minutes and seconds\n",
    "average_time_spent_control['step_duration_minutes'] = average_time_spent_control['step_duration_seconds'] // 60\n",
    "average_time_spent_control['step_duration_seconds_only'] = average_time_spent_control['step_duration_seconds'] % 60\n",
    "average_time_spent_control['formatted_duration'] = average_time_spent_control.apply(lambda row: f\"{int(row['step_duration_minutes'])} minutes {int(row['step_duration_seconds_only'])} seconds\", axis=1)\n",
    "\n",
    "# Display the results\n",
    "print(\"Control Group Average Time Spent on Each Step:\")\n",
    "print(average_time_spent_control[['process_step', 'formatted_duration', 'step_duration_seconds']])"
   ]
  },
  {
   "cell_type": "markdown",
   "metadata": {},
   "source": [
    "- Test (New Version)"
   ]
  },
  {
   "cell_type": "code",
   "execution_count": 31,
   "metadata": {},
   "outputs": [
    {
     "name": "stdout",
     "output_type": "stream",
     "text": [
      "Test Group Average Time Spent on Each Step:\n",
      "  process_step    formatted_duration  step_duration_seconds\n",
      "0      confirm   8 minutes 9 seconds                  489.0\n",
      "1        start   4 minutes 4 seconds                  244.0\n",
      "2       step_1  3 minutes 59 seconds                  239.0\n",
      "3       step_2   4 minutes 9 seconds                  249.0\n",
      "4       step_3  3 minutes 58 seconds                  238.0\n"
     ]
    }
   ],
   "source": [
    "# Calculate Average Time Spent on Each Step for Test group\n",
    "df_test['next_date_time'] = df_test.groupby('visit_id')['date_time'].shift(-1)\n",
    "df_test['step_duration'] = df_test['next_date_time'] - df_test['date_time']\n",
    "\n",
    "# Remove any negative durations\n",
    "df_test = df_test[df_test['step_duration'] >= pd.Timedelta(0)]\n",
    "\n",
    "average_time_spent_test = df_test.groupby('process_step')['step_duration'].mean().reset_index()\n",
    "\n",
    "# Convert step_duration to total seconds for calculation and round\n",
    "average_time_spent_test['step_duration_seconds'] = average_time_spent_test['step_duration'].dt.total_seconds().round(0)\n",
    "\n",
    "# Convert step_duration_seconds to minutes and seconds\n",
    "average_time_spent_test['step_duration_minutes'] = average_time_spent_test['step_duration_seconds'] // 60\n",
    "average_time_spent_test['step_duration_seconds_only'] = average_time_spent_test['step_duration_seconds'] % 60\n",
    "average_time_spent_test['formatted_duration'] = average_time_spent_test.apply(lambda row: f\"{int(row['step_duration_minutes'])} minutes {int(row['step_duration_seconds_only'])} seconds\", axis=1)\n",
    "\n",
    "# Display the results\n",
    "print(\"Test Group Average Time Spent on Each Step:\")\n",
    "print(average_time_spent_test[['process_step', 'formatted_duration', 'step_duration_seconds']])"
   ]
  },
  {
   "cell_type": "code",
   "execution_count": 32,
   "metadata": {},
   "outputs": [
    {
     "data": {
      "image/png": "[encoded data removed]",
      "text/plain": [
       "<Figure size 1200x800 with 1 Axes>"
      ]
     },
     "metadata": {},
     "output_type": "display_data"
    }
   ],
   "source": [
    "import numpy as np\n",
    "\n",
    "# Plotting the comparison\n",
    "fig, ax = plt.subplots(figsize=(12, 8))\n",
    "\n",
    "# Set the positions and width for the bars\n",
    "bar_width = 0.35\n",
    "index = np.arange(len(average_time_spent_control['process_step']))\n",
    "\n",
    "# Plot bars for Control group\n",
    "bars1 = ax.bar(index, average_time_spent_control['step_duration_minutes'] + average_time_spent_control['step_duration_seconds_only'] / 60, bar_width, label='Control', color='blue')\n",
    "\n",
    "# Plot bars for Test group\n",
    "bars2 = ax.bar(index + bar_width, average_time_spent_test['step_duration_minutes'] + average_time_spent_test['step_duration_seconds_only'] / 60, bar_width, label='Test', color='orange')\n",
    "\n",
    "# Adding labels and title\n",
    "ax.set_xlabel('Process Step')\n",
    "ax.set_ylabel('Average Time Spent (minutes)')\n",
    "ax.set_title('Average Time Spent on Each Step by Variation')\n",
    "ax.set_xticks(index + bar_width / 2)\n",
    "ax.set_xticklabels(average_time_spent_control['process_step'])\n",
    "ax.legend()\n",
    "\n",
    "# Adding the duration in minutes and seconds as text on the bars\n",
    "def add_labels(bars, durations_seconds):\n",
    "    for bar, duration_seconds in zip(bars, durations_seconds):\n",
    "        minutes = int(duration_seconds // 60)\n",
    "        seconds = int(duration_seconds % 60)\n",
    "        ax.text(bar.get_x() + bar.get_width() / 2, bar.get_height(),\n",
    "                f'{minutes}m {seconds}s',\n",
    "                ha='center', va='bottom', fontsize=10, color='black')\n",
    "\n",
    "add_labels(bars1, average_time_spent_control['step_duration_seconds'])\n",
    "add_labels(bars2, average_time_spent_test['step_duration_seconds'])\n",
    "\n",
    "# Display the plot\n",
    "plt.tight_layout()\n",
    "plt.show()"
   ]
  },
  {
   "cell_type": "markdown",
   "metadata": {},
   "source": [
    "**Control Group**:\n",
    "\n",
    "- Confirm: 4 minutes 44 seconds (284 seconds)\n",
    "- Start: 3 minutes 42 seconds (222 seconds)\n",
    "- Step 1: 3 minutes 34 seconds (214 seconds)\n",
    "- Step 2: 3 minutes 48 seconds (228 seconds)\n",
    "- Step 3: 3 minutes 36 seconds (216 seconds)\n",
    "\n",
    "**Test Group**:\n",
    "\n",
    "- Confirm: 8 minutes 9 seconds (489 seconds)\n",
    "- Start: 4 minutes 4 seconds (244 seconds)\n",
    "- Step 1: 3 minutes 59 seconds (239 seconds)\n",
    "- Step 2: 4 minutes 9 seconds (249 seconds)\n",
    "- Step 3: 3 minutes 58 seconds (238 seconds)"
   ]
  },
  {
   "cell_type": "markdown",
   "metadata": {},
   "source": [
    "**Conclusion**: The time spent on each step is generally higher in the Test group compared to the Control group, especially for the \"Confirm\" step, which takes significantly longer. While the Test group shows a higher completion rate, the increased time spent may indicate additional complexities or steps in the new design that need to be addressed to optimize user efficiency."
   ]
  },
  {
   "cell_type": "markdown",
   "metadata": {},
   "source": [
    "### Error Rates\n",
    "*Steps where users revert to previous steps*"
   ]
  },
  {
   "cell_type": "markdown",
   "metadata": {},
   "source": [
    "- Control (Old Version)"
   ]
  },
  {
   "cell_type": "code",
   "execution_count": 33,
   "metadata": {},
   "outputs": [
    {
     "name": "stdout",
     "output_type": "stream",
     "text": [
      "Error Rates on Each Step for Control Group\n",
      "  process_step  error_rate\n",
      "0      confirm        0.00\n",
      "1        start        0.06\n",
      "2       step_1        4.54\n",
      "3       step_2       11.76\n",
      "4       step_3       34.84\n"
     ]
    },
    {
     "name": "stderr",
     "output_type": "stream",
     "text": [
      "C:\\Users\\USER\\AppData\\Local\\Temp\\ipykernel_28512\\2628475031.py:12: SettingWithCopyWarning: \n",
      "A value is trying to be set on a copy of a slice from a DataFrame.\n",
      "Try using .loc[row_indexer,col_indexer] = value instead\n",
      "\n",
      "See the caveats in the documentation: https://pandas.pydata.org/pandas-docs/stable/user_guide/indexing.html#returning-a-view-versus-a-copy\n",
      "  df_control_filtered['next_step'] = df_control_filtered.groupby('visit_id')['process_step'].shift(-1)\n",
      "C:\\Users\\USER\\AppData\\Local\\Temp\\ipykernel_28512\\2628475031.py:13: SettingWithCopyWarning: \n",
      "A value is trying to be set on a copy of a slice from a DataFrame.\n",
      "Try using .loc[row_indexer,col_indexer] = value instead\n",
      "\n",
      "See the caveats in the documentation: https://pandas.pydata.org/pandas-docs/stable/user_guide/indexing.html#returning-a-view-versus-a-copy\n",
      "  df_control_filtered['revert'] = df_control_filtered['process_step'] > df_control_filtered['next_step']\n"
     ]
    }
   ],
   "source": [
    "# Sort the dataframe by visitor_id and date_time to ensure chronological order\n",
    "df_control = df_control.sort_values(by=['visitor_id', 'date_time'])\n",
    "\n",
    "# Calculate the time difference between steps\n",
    "df_control['next_date_time'] = df_control.groupby('visit_id')['date_time'].shift(-1)\n",
    "df_control['step_duration'] = df_control['next_date_time'] - df_control['date_time']\n",
    "\n",
    "# Filter out the rows where next_date_time is NaT (last steps)\n",
    "df_control_filtered = df_control.dropna(subset=['next_date_time'])\n",
    "\n",
    "# Identify steps where users revert to previous steps\n",
    "df_control_filtered['next_step'] = df_control_filtered.groupby('visit_id')['process_step'].shift(-1)\n",
    "df_control_filtered['revert'] = df_control_filtered['process_step'] > df_control_filtered['next_step']\n",
    "\n",
    "# Calculate error rates for the Control group\n",
    "error_rates_control = df_control_filtered.groupby('process_step')['revert'].mean().reset_index()\n",
    "error_rates_control.rename(columns={'revert': 'error_rate'}, inplace=True)\n",
    "\n",
    "# Convert error rates to percentage and round to 2 decimals\n",
    "error_rates_control['error_rate'] = (error_rates_control['error_rate'] * 100).round(2)\n",
    "\n",
    "# Display the results\n",
    "print(\"Error Rates on Each Step for Control Group\")\n",
    "print(error_rates_control)"
   ]
  },
  {
   "cell_type": "markdown",
   "metadata": {},
   "source": [
    "- Test (New Version)"
   ]
  },
  {
   "cell_type": "code",
   "execution_count": 34,
   "metadata": {},
   "outputs": [
    {
     "name": "stdout",
     "output_type": "stream",
     "text": [
      "Error Rates on Each Step for Test Group\n",
      "  process_step  error_rate\n",
      "0      confirm        0.00\n",
      "1        start        0.04\n",
      "2       step_1        8.42\n",
      "3       step_2       14.51\n",
      "4       step_3       36.24\n"
     ]
    },
    {
     "name": "stderr",
     "output_type": "stream",
     "text": [
      "C:\\Users\\USER\\AppData\\Local\\Temp\\ipykernel_28512\\3285428583.py:12: SettingWithCopyWarning: \n",
      "A value is trying to be set on a copy of a slice from a DataFrame.\n",
      "Try using .loc[row_indexer,col_indexer] = value instead\n",
      "\n",
      "See the caveats in the documentation: https://pandas.pydata.org/pandas-docs/stable/user_guide/indexing.html#returning-a-view-versus-a-copy\n",
      "  df_test_filtered['next_step'] = df_test_filtered.groupby('visit_id')['process_step'].shift(-1)\n",
      "C:\\Users\\USER\\AppData\\Local\\Temp\\ipykernel_28512\\3285428583.py:13: SettingWithCopyWarning: \n",
      "A value is trying to be set on a copy of a slice from a DataFrame.\n",
      "Try using .loc[row_indexer,col_indexer] = value instead\n",
      "\n",
      "See the caveats in the documentation: https://pandas.pydata.org/pandas-docs/stable/user_guide/indexing.html#returning-a-view-versus-a-copy\n",
      "  df_test_filtered['revert'] = df_test_filtered['process_step'] > df_test_filtered['next_step']\n"
     ]
    }
   ],
   "source": [
    "# Sort the dataframe by visitor_id and date_time to ensure chronological order\n",
    "df_test = df_test.sort_values(by=['visitor_id', 'date_time'])\n",
    "\n",
    "# Calculate the time difference between steps\n",
    "df_test['next_date_time'] = df_test.groupby('visit_id')['date_time'].shift(-1)\n",
    "df_test['step_duration'] = df_test['next_date_time'] - df_test['date_time']\n",
    "\n",
    "# Filter out the rows where next_date_time is NaT (last steps)\n",
    "df_test_filtered = df_test.dropna(subset=['next_date_time'])\n",
    "\n",
    "# Identify steps where users revert to previous steps\n",
    "df_test_filtered['next_step'] = df_test_filtered.groupby('visit_id')['process_step'].shift(-1)\n",
    "df_test_filtered['revert'] = df_test_filtered['process_step'] > df_test_filtered['next_step']\n",
    "\n",
    "# Calculate error rates for the Test group\n",
    "error_rates_test = df_test_filtered.groupby('process_step')['revert'].mean().reset_index()\n",
    "error_rates_test.rename(columns={'revert': 'error_rate'}, inplace=True)\n",
    "\n",
    "# Convert error rates to percentage and round to 2 decimals\n",
    "error_rates_test['error_rate'] = (error_rates_test['error_rate'] * 100).round(2)\n",
    "\n",
    "# Display the results\n",
    "print(\"Error Rates on Each Step for Test Group\")\n",
    "print(error_rates_test)"
   ]
  },
  {
   "cell_type": "code",
   "execution_count": 35,
   "metadata": {},
   "outputs": [
    {
     "data": {
      "image/png": "[encoded data removed]",
      "text/plain": [
       "<Figure size 1000x600 with 1 Axes>"
      ]
     },
     "metadata": {},
     "output_type": "display_data"
    }
   ],
   "source": [
    "#Plot a compraision of the error rates on each step by variation \n",
    "plt.figure(figsize=(10, 6))\n",
    "barWidth = 0.35\n",
    "r1 = np.arange(len(error_rates_control))\n",
    "r2 = [x + barWidth for x in r1]\n",
    "plt.bar(r1, error_rates_control['error_rate'], color='skyblue', width=barWidth, edgecolor='grey', label='Control')\n",
    "plt.bar(r2, error_rates_test['error_rate'], color='lightgreen', width=barWidth, edgecolor='grey', label='Test')\n",
    "plt.xlabel('Process Step')\n",
    "plt.ylabel('Error Rate (%)')\n",
    "plt.title('Error Rates on Each Step by Variation')\n",
    "plt.xticks([r + barWidth/2 for r in range(len(error_rates_control))], error_rates_control['process_step'])\n",
    "plt.legend()\n",
    "plt.show()"
   ]
  },
  {
   "cell_type": "markdown",
   "metadata": {},
   "source": [
    "**Control Group**:\n",
    "\n",
    "- Confirm: 0.00%\n",
    "- Start: 0.06%\n",
    "- Step 1: 4.54%\n",
    "- Step 2: 11.76%\n",
    "- Step 3: 34.84%\n",
    "\n",
    "**Test Group**:\n",
    "\n",
    "- Confirm: 0.00%\n",
    "- Start: 0.04%\n",
    "- Step 1: 8.42%\n",
    "- Step 2: 14.51%\n",
    "- Step 3: 36.24%"
   ]
  },
  {
   "cell_type": "markdown",
   "metadata": {},
   "source": [
    "**Conclusion**: The error rates are higher in the Test group for \"Step 1,\" \"Step 2,\" and \"Step 3\" compared to the Control group. This suggests that users may find certain steps in the new design more challenging, which leads to a higher likelihood of errors."
   ]
  },
  {
   "cell_type": "markdown",
   "metadata": {},
   "source": [
    "#### Overall Conclusion\n",
    "\n",
    "In conclusion, the new design shows promise with a higher completion rate, but it also introduces challenges in terms of time efficiency and error rates. By addressing these issues through focused improvements and support, the new design can be optimized for better overall performance and user satisfaction."
   ]
  }
 ],
 "metadata": {
  "kernelspec": {
   "display_name": "vanguard_project",
   "language": "python",
   "name": "python3"
  },
  "language_info": {
   "codemirror_mode": {
    "name": "ipython",
    "version": 3
   },
   "file_extension": ".py",
   "mimetype": "text/x-python",
   "name": "python",
   "nbconvert_exporter": "python",
   "pygments_lexer": "ipython3",
   "version": "3.11.9"
  }
 },
 "nbformat": 4,
 "nbformat_minor": 2
}
