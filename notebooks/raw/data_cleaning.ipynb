{
 "cells": [
  {
   "cell_type": "markdown",
   "metadata": {},
   "source": [
    "# Data cleaning and merging\n",
    "\n",
    "- In this notebook, we will clean the data and merge the data from the different datasets. "
   ]
  },
  {
   "cell_type": "markdown",
   "metadata": {},
   "source": [
    "## Client Profiles (client_profiles.csv)"
   ]
  },
  {
   "cell_type": "code",
   "execution_count": 1,
   "metadata": {},
   "outputs": [
    {
     "data": {
      "text/html": [
       "<div>\n",
       "<style scoped>\n",
       "    .dataframe tbody tr th:only-of-type {\n",
       "        vertical-align: middle;\n",
       "    }\n",
       "\n",
       "    .dataframe tbody tr th {\n",
       "        vertical-align: top;\n",
       "    }\n",
       "\n",
       "    .dataframe thead th {\n",
       "        text-align: right;\n",
       "    }\n",
       "</style>\n",
       "<table border=\"1\" class=\"dataframe\">\n",
       "  <thead>\n",
       "    <tr style=\"text-align: right;\">\n",
       "      <th></th>\n",
       "      <th>client_id</th>\n",
       "      <th>clnt_tenure_yr</th>\n",
       "      <th>clnt_tenure_mnth</th>\n",
       "      <th>clnt_age</th>\n",
       "      <th>gendr</th>\n",
       "      <th>num_accts</th>\n",
       "      <th>bal</th>\n",
       "      <th>calls_6_mnth</th>\n",
       "      <th>logons_6_mnth</th>\n",
       "    </tr>\n",
       "  </thead>\n",
       "  <tbody>\n",
       "    <tr>\n",
       "      <th>25024</th>\n",
       "      <td>4044961</td>\n",
       "      <td>9.0</td>\n",
       "      <td>115.0</td>\n",
       "      <td>38.5</td>\n",
       "      <td>F</td>\n",
       "      <td>2.0</td>\n",
       "      <td>36135.75</td>\n",
       "      <td>3.0</td>\n",
       "      <td>6.0</td>\n",
       "    </tr>\n",
       "    <tr>\n",
       "      <th>36557</th>\n",
       "      <td>2417474</td>\n",
       "      <td>15.0</td>\n",
       "      <td>187.0</td>\n",
       "      <td>71.5</td>\n",
       "      <td>M</td>\n",
       "      <td>2.0</td>\n",
       "      <td>47061.79</td>\n",
       "      <td>0.0</td>\n",
       "      <td>3.0</td>\n",
       "    </tr>\n",
       "    <tr>\n",
       "      <th>39257</th>\n",
       "      <td>3535575</td>\n",
       "      <td>8.0</td>\n",
       "      <td>104.0</td>\n",
       "      <td>29.5</td>\n",
       "      <td>F</td>\n",
       "      <td>2.0</td>\n",
       "      <td>34932.82</td>\n",
       "      <td>0.0</td>\n",
       "      <td>3.0</td>\n",
       "    </tr>\n",
       "    <tr>\n",
       "      <th>20036</th>\n",
       "      <td>8216174</td>\n",
       "      <td>12.0</td>\n",
       "      <td>154.0</td>\n",
       "      <td>61.0</td>\n",
       "      <td>M</td>\n",
       "      <td>2.0</td>\n",
       "      <td>116661.20</td>\n",
       "      <td>0.0</td>\n",
       "      <td>3.0</td>\n",
       "    </tr>\n",
       "    <tr>\n",
       "      <th>29708</th>\n",
       "      <td>7114316</td>\n",
       "      <td>14.0</td>\n",
       "      <td>168.0</td>\n",
       "      <td>35.5</td>\n",
       "      <td>F</td>\n",
       "      <td>2.0</td>\n",
       "      <td>58186.67</td>\n",
       "      <td>1.0</td>\n",
       "      <td>4.0</td>\n",
       "    </tr>\n",
       "  </tbody>\n",
       "</table>\n",
       "</div>"
      ],
      "text/plain": [
       "       client_id  clnt_tenure_yr  clnt_tenure_mnth  clnt_age gendr  num_accts  \\\n",
       "25024    4044961             9.0             115.0      38.5     F        2.0   \n",
       "36557    2417474            15.0             187.0      71.5     M        2.0   \n",
       "39257    3535575             8.0             104.0      29.5     F        2.0   \n",
       "20036    8216174            12.0             154.0      61.0     M        2.0   \n",
       "29708    7114316            14.0             168.0      35.5     F        2.0   \n",
       "\n",
       "             bal  calls_6_mnth  logons_6_mnth  \n",
       "25024   36135.75           3.0            6.0  \n",
       "36557   47061.79           0.0            3.0  \n",
       "39257   34932.82           0.0            3.0  \n",
       "20036  116661.20           0.0            3.0  \n",
       "29708   58186.67           1.0            4.0  "
      ]
     },
     "execution_count": 1,
     "metadata": {},
     "output_type": "execute_result"
    }
   ],
   "source": [
    "#import libraries to clean data and do the merging\n",
    "\n",
    "import pandas as pd\n",
    "import numpy as np\n",
    "\n",
    "#read the data\n",
    "\n",
    "client_profiles = \"/Users/alexandreribeiro/Desktop/Ironhacks Booty/5th week/Project/Datasets/df_final_demo.csv\"\n",
    "digital_footprints_1 = \"/Users/alexandreribeiro/Desktop/Ironhacks Booty/5th week/Project/Datasets/df_final_web_data_pt_1.csv\"\n",
    "digital_footprints_2 = \"/Users/alexandreribeiro/Desktop/Ironhacks Booty/5th week/Project/Datasets/df_final_web_data_pt_2.csv\"\n",
    "experiment_roster = \"/Users/alexandreribeiro/Desktop/Ironhacks Booty/5th week/Project/Datasets/df_final_experiment_clients.csv\"\n",
    "\n",
    "#read the data\n",
    "\n",
    "df_client_profiles = pd.read_csv(client_profiles)\n",
    "\n",
    "df_client_profiles.sample(5)\n"
   ]
  },
  {
   "cell_type": "code",
   "execution_count": 2,
   "metadata": {},
   "outputs": [
    {
     "data": {
      "text/plain": [
       "gendr\n",
       "U    24125\n",
       "M    23724\n",
       "F    22746\n",
       "Name: count, dtype: int64"
      ]
     },
     "execution_count": 2,
     "metadata": {},
     "output_type": "execute_result"
    }
   ],
   "source": [
    "# handling different values on gendr\n",
    "\n",
    "df_client_profiles.gendr.value_counts()\n",
    "\n",
    "# includint the X values in U\n",
    "\n",
    "df_client_profiles['gendr'] = df_client_profiles['gendr'].replace('X', 'U')\n",
    "\n",
    "df_client_profiles.gendr.value_counts()"
   ]
  },
  {
   "cell_type": "code",
   "execution_count": 3,
   "metadata": {},
   "outputs": [
    {
     "data": {
      "text/plain": [
       "(70609, 9)"
      ]
     },
     "execution_count": 3,
     "metadata": {},
     "output_type": "execute_result"
    }
   ],
   "source": [
    "df_client_profiles.shape"
   ]
  },
  {
   "cell_type": "code",
   "execution_count": 4,
   "metadata": {},
   "outputs": [
    {
     "name": "stdout",
     "output_type": "stream",
     "text": [
      "<class 'pandas.core.frame.DataFrame'>\n",
      "RangeIndex: 70609 entries, 0 to 70608\n",
      "Data columns (total 9 columns):\n",
      " #   Column            Non-Null Count  Dtype  \n",
      "---  ------            --------------  -----  \n",
      " 0   client_id         70609 non-null  int64  \n",
      " 1   clnt_tenure_yr    70595 non-null  float64\n",
      " 2   clnt_tenure_mnth  70595 non-null  float64\n",
      " 3   clnt_age          70594 non-null  float64\n",
      " 4   gendr             70595 non-null  object \n",
      " 5   num_accts         70595 non-null  float64\n",
      " 6   bal               70595 non-null  float64\n",
      " 7   calls_6_mnth      70595 non-null  float64\n",
      " 8   logons_6_mnth     70595 non-null  float64\n",
      "dtypes: float64(7), int64(1), object(1)\n",
      "memory usage: 4.8+ MB\n"
     ]
    }
   ],
   "source": [
    "df_client_profiles.info()"
   ]
  },
  {
   "cell_type": "code",
   "execution_count": 5,
   "metadata": {},
   "outputs": [
    {
     "data": {
      "text/plain": [
       "client_id            0\n",
       "clnt_tenure_yr      14\n",
       "clnt_tenure_mnth    14\n",
       "clnt_age            15\n",
       "gendr               14\n",
       "num_accts           14\n",
       "bal                 14\n",
       "calls_6_mnth        14\n",
       "logons_6_mnth       14\n",
       "dtype: int64"
      ]
     },
     "execution_count": 5,
     "metadata": {},
     "output_type": "execute_result"
    }
   ],
   "source": [
    "# checking for missing values\n",
    "\n",
    "df_client_profiles.isnull().sum()"
   ]
  },
  {
   "cell_type": "code",
   "execution_count": 6,
   "metadata": {},
   "outputs": [
    {
     "data": {
      "text/plain": [
       "client_id           0\n",
       "clnt_tenure_yr      0\n",
       "clnt_tenure_mnth    0\n",
       "clnt_age            0\n",
       "gendr               0\n",
       "num_accts           0\n",
       "bal                 0\n",
       "calls_6_mnth        0\n",
       "logons_6_mnth       0\n",
       "dtype: int64"
      ]
     },
     "execution_count": 6,
     "metadata": {},
     "output_type": "execute_result"
    }
   ],
   "source": [
    "# drop the missing values\n",
    "\n",
    "df_client_profiles = df_client_profiles.dropna()\n",
    "\n",
    "df_client_profiles.isnull().sum()"
   ]
  },
  {
   "cell_type": "code",
   "execution_count": 7,
   "metadata": {},
   "outputs": [
    {
     "data": {
      "text/html": [
       "<div>\n",
       "<style scoped>\n",
       "    .dataframe tbody tr th:only-of-type {\n",
       "        vertical-align: middle;\n",
       "    }\n",
       "\n",
       "    .dataframe tbody tr th {\n",
       "        vertical-align: top;\n",
       "    }\n",
       "\n",
       "    .dataframe thead th {\n",
       "        text-align: right;\n",
       "    }\n",
       "</style>\n",
       "<table border=\"1\" class=\"dataframe\">\n",
       "  <thead>\n",
       "    <tr style=\"text-align: right;\">\n",
       "      <th></th>\n",
       "      <th>client_id</th>\n",
       "      <th>clnt_tenure_yr</th>\n",
       "      <th>clnt_tenure_mnth</th>\n",
       "      <th>clnt_age</th>\n",
       "      <th>gendr</th>\n",
       "      <th>num_accts</th>\n",
       "      <th>bal</th>\n",
       "      <th>calls_6_mnth</th>\n",
       "      <th>logons_6_mnth</th>\n",
       "    </tr>\n",
       "  </thead>\n",
       "  <tbody>\n",
       "    <tr>\n",
       "      <th>52348</th>\n",
       "      <td>3518240</td>\n",
       "      <td>15</td>\n",
       "      <td>191</td>\n",
       "      <td>33</td>\n",
       "      <td>U</td>\n",
       "      <td>2</td>\n",
       "      <td>31989.01</td>\n",
       "      <td>7</td>\n",
       "      <td>7</td>\n",
       "    </tr>\n",
       "    <tr>\n",
       "      <th>65752</th>\n",
       "      <td>9939987</td>\n",
       "      <td>7</td>\n",
       "      <td>85</td>\n",
       "      <td>38</td>\n",
       "      <td>U</td>\n",
       "      <td>2</td>\n",
       "      <td>20453.11</td>\n",
       "      <td>4</td>\n",
       "      <td>4</td>\n",
       "    </tr>\n",
       "    <tr>\n",
       "      <th>60241</th>\n",
       "      <td>4489790</td>\n",
       "      <td>20</td>\n",
       "      <td>249</td>\n",
       "      <td>31</td>\n",
       "      <td>M</td>\n",
       "      <td>3</td>\n",
       "      <td>180709.95</td>\n",
       "      <td>6</td>\n",
       "      <td>6</td>\n",
       "    </tr>\n",
       "    <tr>\n",
       "      <th>16848</th>\n",
       "      <td>8829608</td>\n",
       "      <td>16</td>\n",
       "      <td>192</td>\n",
       "      <td>58</td>\n",
       "      <td>M</td>\n",
       "      <td>3</td>\n",
       "      <td>638185.61</td>\n",
       "      <td>6</td>\n",
       "      <td>9</td>\n",
       "    </tr>\n",
       "    <tr>\n",
       "      <th>43393</th>\n",
       "      <td>9442411</td>\n",
       "      <td>6</td>\n",
       "      <td>78</td>\n",
       "      <td>47</td>\n",
       "      <td>U</td>\n",
       "      <td>3</td>\n",
       "      <td>53580.06</td>\n",
       "      <td>2</td>\n",
       "      <td>5</td>\n",
       "    </tr>\n",
       "  </tbody>\n",
       "</table>\n",
       "</div>"
      ],
      "text/plain": [
       "       client_id  clnt_tenure_yr  clnt_tenure_mnth  clnt_age gendr  num_accts  \\\n",
       "52348    3518240              15               191        33     U          2   \n",
       "65752    9939987               7                85        38     U          2   \n",
       "60241    4489790              20               249        31     M          3   \n",
       "16848    8829608              16               192        58     M          3   \n",
       "43393    9442411               6                78        47     U          3   \n",
       "\n",
       "             bal  calls_6_mnth  logons_6_mnth  \n",
       "52348   31989.01             7              7  \n",
       "65752   20453.11             4              4  \n",
       "60241  180709.95             6              6  \n",
       "16848  638185.61             6              9  \n",
       "43393   53580.06             2              5  "
      ]
     },
     "execution_count": 7,
     "metadata": {},
     "output_type": "execute_result"
    }
   ],
   "source": [
    "df_client_profiles['clnt_tenure_yr'] = df_client_profiles['clnt_tenure_yr'].astype(int)\n",
    "df_client_profiles['clnt_tenure_mnth'] = df_client_profiles['clnt_tenure_mnth'].astype(int)\n",
    "df_client_profiles['clnt_age'] = df_client_profiles['clnt_age'].astype(int)\n",
    "df_client_profiles['calls_6_mnth'] = df_client_profiles['calls_6_mnth'].astype(int)\n",
    "df_client_profiles['logons_6_mnth'] = df_client_profiles['logons_6_mnth'].astype(int)\n",
    "df_client_profiles['num_accts'] = df_client_profiles['num_accts'].astype(int)\n",
    "\n",
    "df_client_profiles.sample(5)"
   ]
  },
  {
   "cell_type": "code",
   "execution_count": 8,
   "metadata": {},
   "outputs": [
    {
     "data": {
      "text/plain": [
       "0"
      ]
     },
     "execution_count": 8,
     "metadata": {},
     "output_type": "execute_result"
    }
   ],
   "source": [
    "# checking for duplicates   \n",
    "\n",
    "duplicates = df_client_profiles.duplicated()\n",
    "\n",
    "duplicates.sum()"
   ]
  },
  {
   "cell_type": "markdown",
   "metadata": {},
   "source": [
    "### Merging the digital_footprints_1 and digital_footprints_2 datasets before cleaning"
   ]
  },
  {
   "cell_type": "code",
   "execution_count": 9,
   "metadata": {},
   "outputs": [
    {
     "data": {
      "text/html": [
       "<div>\n",
       "<style scoped>\n",
       "    .dataframe tbody tr th:only-of-type {\n",
       "        vertical-align: middle;\n",
       "    }\n",
       "\n",
       "    .dataframe tbody tr th {\n",
       "        vertical-align: top;\n",
       "    }\n",
       "\n",
       "    .dataframe thead th {\n",
       "        text-align: right;\n",
       "    }\n",
       "</style>\n",
       "<table border=\"1\" class=\"dataframe\">\n",
       "  <thead>\n",
       "    <tr style=\"text-align: right;\">\n",
       "      <th></th>\n",
       "      <th>client_id</th>\n",
       "      <th>visitor_id</th>\n",
       "      <th>visit_id</th>\n",
       "      <th>process_step</th>\n",
       "      <th>date_time</th>\n",
       "    </tr>\n",
       "  </thead>\n",
       "  <tbody>\n",
       "    <tr>\n",
       "      <th>281246</th>\n",
       "      <td>6043425</td>\n",
       "      <td>362482002_83909183591</td>\n",
       "      <td>143420461_3381335558_645061</td>\n",
       "      <td>start</td>\n",
       "      <td>2017-06-04 20:33:58</td>\n",
       "    </tr>\n",
       "    <tr>\n",
       "      <th>328852</th>\n",
       "      <td>6207137</td>\n",
       "      <td>351584592_4788503001</td>\n",
       "      <td>995286943_88012837597_530942</td>\n",
       "      <td>start</td>\n",
       "      <td>2017-04-21 14:16:59</td>\n",
       "    </tr>\n",
       "    <tr>\n",
       "      <th>249956</th>\n",
       "      <td>5058631</td>\n",
       "      <td>859569947_40827061718</td>\n",
       "      <td>447661008_75111507967_393816</td>\n",
       "      <td>start</td>\n",
       "      <td>2017-04-15 13:40:46</td>\n",
       "    </tr>\n",
       "    <tr>\n",
       "      <th>16674</th>\n",
       "      <td>549586</td>\n",
       "      <td>575352869_38998546801</td>\n",
       "      <td>202868821_88723542910_786372</td>\n",
       "      <td>step_1</td>\n",
       "      <td>2017-05-30 15:09:29</td>\n",
       "    </tr>\n",
       "    <tr>\n",
       "      <th>246876</th>\n",
       "      <td>673939</td>\n",
       "      <td>163039120_25243113722</td>\n",
       "      <td>424288451_98732788933_283744</td>\n",
       "      <td>step_3</td>\n",
       "      <td>2017-04-12 16:09:07</td>\n",
       "    </tr>\n",
       "  </tbody>\n",
       "</table>\n",
       "</div>"
      ],
      "text/plain": [
       "        client_id             visitor_id                      visit_id  \\\n",
       "281246    6043425  362482002_83909183591   143420461_3381335558_645061   \n",
       "328852    6207137   351584592_4788503001  995286943_88012837597_530942   \n",
       "249956    5058631  859569947_40827061718  447661008_75111507967_393816   \n",
       "16674      549586  575352869_38998546801  202868821_88723542910_786372   \n",
       "246876     673939  163039120_25243113722  424288451_98732788933_283744   \n",
       "\n",
       "       process_step           date_time  \n",
       "281246        start 2017-06-04 20:33:58  \n",
       "328852        start 2017-04-21 14:16:59  \n",
       "249956        start 2017-04-15 13:40:46  \n",
       "16674        step_1 2017-05-30 15:09:29  \n",
       "246876       step_3 2017-04-12 16:09:07  "
      ]
     },
     "execution_count": 9,
     "metadata": {},
     "output_type": "execute_result"
    }
   ],
   "source": [
    "# Load the datasets\n",
    "\n",
    "df_digital_footprint1 = pd.read_csv(digital_footprints_1)\n",
    "df_digital_footprint2 = pd.read_csv(digital_footprints_2)\n",
    "\n",
    "# Convert date_time columns to datetime format\n",
    "\n",
    "df_digital_footprint1['date_time'] = pd.to_datetime(df_digital_footprint1['date_time'])\n",
    "df_digital_footprint2['date_time'] = pd.to_datetime(df_digital_footprint2['date_time'])\n",
    "\n",
    "# Merge the datasets\n",
    "\n",
    "df_digital_footprint = pd.concat([df_digital_footprint1, df_digital_footprint2])\n",
    "\n",
    "# Display a sample the merged dataset\n",
    "\n",
    "df_digital_footprint.sample(5)"
   ]
  },
  {
   "cell_type": "code",
   "execution_count": 10,
   "metadata": {},
   "outputs": [
    {
     "data": {
      "text/plain": [
       "client_id       0\n",
       "visitor_id      0\n",
       "visit_id        0\n",
       "process_step    0\n",
       "date_time       0\n",
       "dtype: int64"
      ]
     },
     "execution_count": 10,
     "metadata": {},
     "output_type": "execute_result"
    }
   ],
   "source": [
    "# checking for missing values\n",
    "\n",
    "df_digital_footprint.isnull().sum()"
   ]
  },
  {
   "cell_type": "code",
   "execution_count": 11,
   "metadata": {},
   "outputs": [
    {
     "data": {
      "text/plain": [
       "(755405, 5)"
      ]
     },
     "execution_count": 11,
     "metadata": {},
     "output_type": "execute_result"
    }
   ],
   "source": [
    "df_digital_footprint.shape"
   ]
  },
  {
   "cell_type": "code",
   "execution_count": 12,
   "metadata": {},
   "outputs": [
    {
     "data": {
      "text/plain": [
       "10764"
      ]
     },
     "execution_count": 12,
     "metadata": {},
     "output_type": "execute_result"
    }
   ],
   "source": [
    "# duplicates\n",
    "\n",
    "duplicates = df_digital_footprint.duplicated()\n",
    "\n",
    "duplicates.sum()"
   ]
  },
  {
   "cell_type": "code",
   "execution_count": 13,
   "metadata": {},
   "outputs": [
    {
     "data": {
      "text/html": [
       "<div>\n",
       "<style scoped>\n",
       "    .dataframe tbody tr th:only-of-type {\n",
       "        vertical-align: middle;\n",
       "    }\n",
       "\n",
       "    .dataframe tbody tr th {\n",
       "        vertical-align: top;\n",
       "    }\n",
       "\n",
       "    .dataframe thead th {\n",
       "        text-align: right;\n",
       "    }\n",
       "</style>\n",
       "<table border=\"1\" class=\"dataframe\">\n",
       "  <thead>\n",
       "    <tr style=\"text-align: right;\">\n",
       "      <th></th>\n",
       "      <th>client_id</th>\n",
       "      <th>visitor_id</th>\n",
       "      <th>visit_id</th>\n",
       "      <th>process_step</th>\n",
       "      <th>date_time</th>\n",
       "    </tr>\n",
       "  </thead>\n",
       "  <tbody>\n",
       "    <tr>\n",
       "      <th>288214</th>\n",
       "      <td>1531</td>\n",
       "      <td>934069404_34543643308</td>\n",
       "      <td>110350144_67985219545_904677</td>\n",
       "      <td>start</td>\n",
       "      <td>2017-06-02 22:32:08</td>\n",
       "    </tr>\n",
       "    <tr>\n",
       "      <th>288215</th>\n",
       "      <td>1531</td>\n",
       "      <td>934069404_34543643308</td>\n",
       "      <td>110350144_67985219545_904677</td>\n",
       "      <td>start</td>\n",
       "      <td>2017-06-02 22:32:08</td>\n",
       "    </tr>\n",
       "    <tr>\n",
       "      <th>288212</th>\n",
       "      <td>1531</td>\n",
       "      <td>934069404_34543643308</td>\n",
       "      <td>110350144_67985219545_904677</td>\n",
       "      <td>start</td>\n",
       "      <td>2017-06-02 22:32:28</td>\n",
       "    </tr>\n",
       "    <tr>\n",
       "      <th>288213</th>\n",
       "      <td>1531</td>\n",
       "      <td>934069404_34543643308</td>\n",
       "      <td>110350144_67985219545_904677</td>\n",
       "      <td>start</td>\n",
       "      <td>2017-06-02 22:32:28</td>\n",
       "    </tr>\n",
       "    <tr>\n",
       "      <th>296388</th>\n",
       "      <td>2078</td>\n",
       "      <td>585735301_21309149782</td>\n",
       "      <td>900598259_99565669243_552843</td>\n",
       "      <td>start</td>\n",
       "      <td>2017-05-06 08:29:00</td>\n",
       "    </tr>\n",
       "    <tr>\n",
       "      <th>...</th>\n",
       "      <td>...</td>\n",
       "      <td>...</td>\n",
       "      <td>...</td>\n",
       "      <td>...</td>\n",
       "      <td>...</td>\n",
       "    </tr>\n",
       "    <tr>\n",
       "      <th>119532</th>\n",
       "      <td>9998346</td>\n",
       "      <td>292425655_16607136645</td>\n",
       "      <td>189177304_69869411700_783154</td>\n",
       "      <td>step_3</td>\n",
       "      <td>2017-03-29 15:37:28</td>\n",
       "    </tr>\n",
       "    <tr>\n",
       "      <th>119533</th>\n",
       "      <td>9998346</td>\n",
       "      <td>292425655_16607136645</td>\n",
       "      <td>189177304_69869411700_783154</td>\n",
       "      <td>confirm</td>\n",
       "      <td>2017-03-29 15:37:28</td>\n",
       "    </tr>\n",
       "    <tr>\n",
       "      <th>119534</th>\n",
       "      <td>9998346</td>\n",
       "      <td>292425655_16607136645</td>\n",
       "      <td>189177304_69869411700_783154</td>\n",
       "      <td>step_3</td>\n",
       "      <td>2017-03-29 15:37:28</td>\n",
       "    </tr>\n",
       "    <tr>\n",
       "      <th>63673</th>\n",
       "      <td>9998447</td>\n",
       "      <td>747535871_38029188908</td>\n",
       "      <td>309540451_47388672022_606106</td>\n",
       "      <td>start</td>\n",
       "      <td>2017-06-03 19:17:15</td>\n",
       "    </tr>\n",
       "    <tr>\n",
       "      <th>63674</th>\n",
       "      <td>9998447</td>\n",
       "      <td>747535871_38029188908</td>\n",
       "      <td>309540451_47388672022_606106</td>\n",
       "      <td>start</td>\n",
       "      <td>2017-06-03 19:17:15</td>\n",
       "    </tr>\n",
       "  </tbody>\n",
       "</table>\n",
       "<p>21425 rows × 5 columns</p>\n",
       "</div>"
      ],
      "text/plain": [
       "        client_id             visitor_id                      visit_id  \\\n",
       "288214       1531  934069404_34543643308  110350144_67985219545_904677   \n",
       "288215       1531  934069404_34543643308  110350144_67985219545_904677   \n",
       "288212       1531  934069404_34543643308  110350144_67985219545_904677   \n",
       "288213       1531  934069404_34543643308  110350144_67985219545_904677   \n",
       "296388       2078  585735301_21309149782  900598259_99565669243_552843   \n",
       "...           ...                    ...                           ...   \n",
       "119532    9998346  292425655_16607136645  189177304_69869411700_783154   \n",
       "119533    9998346  292425655_16607136645  189177304_69869411700_783154   \n",
       "119534    9998346  292425655_16607136645  189177304_69869411700_783154   \n",
       "63673     9998447  747535871_38029188908  309540451_47388672022_606106   \n",
       "63674     9998447  747535871_38029188908  309540451_47388672022_606106   \n",
       "\n",
       "       process_step           date_time  \n",
       "288214        start 2017-06-02 22:32:08  \n",
       "288215        start 2017-06-02 22:32:08  \n",
       "288212        start 2017-06-02 22:32:28  \n",
       "288213        start 2017-06-02 22:32:28  \n",
       "296388        start 2017-05-06 08:29:00  \n",
       "...             ...                 ...  \n",
       "119532       step_3 2017-03-29 15:37:28  \n",
       "119533      confirm 2017-03-29 15:37:28  \n",
       "119534       step_3 2017-03-29 15:37:28  \n",
       "63673         start 2017-06-03 19:17:15  \n",
       "63674         start 2017-06-03 19:17:15  \n",
       "\n",
       "[21425 rows x 5 columns]"
      ]
     },
     "execution_count": 13,
     "metadata": {},
     "output_type": "execute_result"
    }
   ],
   "source": [
    "#show duplicates for the same client_id\n",
    "\n",
    "df_digital_footprint[df_digital_footprint.duplicated(subset=['client_id', 'date_time'], keep=False)].sort_values(by=['client_id', 'date_time'])"
   ]
  },
  {
   "cell_type": "code",
   "execution_count": 14,
   "metadata": {},
   "outputs": [
    {
     "data": {
      "text/plain": [
       "10764"
      ]
     },
     "execution_count": 14,
     "metadata": {},
     "output_type": "execute_result"
    }
   ],
   "source": [
    "# checking duplicates when all columns are equal\n",
    "\n",
    "duplicates = df_digital_footprint.duplicated()\n",
    "\n",
    "duplicates.sum()"
   ]
  },
  {
   "cell_type": "code",
   "execution_count": 15,
   "metadata": {},
   "outputs": [
    {
     "data": {
      "text/plain": [
       "(744641, 5)"
      ]
     },
     "execution_count": 15,
     "metadata": {},
     "output_type": "execute_result"
    }
   ],
   "source": [
    "# Since we are dealing with genuine duplicates, we will drop them  \n",
    "\n",
    "df_digital_footprint = df_digital_footprint.drop_duplicates()\n",
    "\n",
    "df_digital_footprint.shape\n",
    "\n"
   ]
  },
  {
   "cell_type": "markdown",
   "metadata": {},
   "source": [
    "### Experiment Roster (final_experiment_clients.csv)"
   ]
  },
  {
   "cell_type": "code",
   "execution_count": 16,
   "metadata": {},
   "outputs": [
    {
     "data": {
      "text/html": [
       "<div>\n",
       "<style scoped>\n",
       "    .dataframe tbody tr th:only-of-type {\n",
       "        vertical-align: middle;\n",
       "    }\n",
       "\n",
       "    .dataframe tbody tr th {\n",
       "        vertical-align: top;\n",
       "    }\n",
       "\n",
       "    .dataframe thead th {\n",
       "        text-align: right;\n",
       "    }\n",
       "</style>\n",
       "<table border=\"1\" class=\"dataframe\">\n",
       "  <thead>\n",
       "    <tr style=\"text-align: right;\">\n",
       "      <th></th>\n",
       "      <th>client_id</th>\n",
       "      <th>Variation</th>\n",
       "    </tr>\n",
       "  </thead>\n",
       "  <tbody>\n",
       "    <tr>\n",
       "      <th>14017</th>\n",
       "      <td>68276</td>\n",
       "      <td>Test</td>\n",
       "    </tr>\n",
       "    <tr>\n",
       "      <th>59738</th>\n",
       "      <td>3234001</td>\n",
       "      <td>NaN</td>\n",
       "    </tr>\n",
       "    <tr>\n",
       "      <th>25227</th>\n",
       "      <td>2941236</td>\n",
       "      <td>Test</td>\n",
       "    </tr>\n",
       "    <tr>\n",
       "      <th>38267</th>\n",
       "      <td>6697214</td>\n",
       "      <td>Test</td>\n",
       "    </tr>\n",
       "    <tr>\n",
       "      <th>336</th>\n",
       "      <td>2532775</td>\n",
       "      <td>Test</td>\n",
       "    </tr>\n",
       "  </tbody>\n",
       "</table>\n",
       "</div>"
      ],
      "text/plain": [
       "       client_id Variation\n",
       "14017      68276      Test\n",
       "59738    3234001       NaN\n",
       "25227    2941236      Test\n",
       "38267    6697214      Test\n",
       "336      2532775      Test"
      ]
     },
     "execution_count": 16,
     "metadata": {},
     "output_type": "execute_result"
    }
   ],
   "source": [
    "#load the experiment roster\n",
    "\n",
    "df_experiment_roster = pd.read_csv(experiment_roster)\n",
    "\n",
    "df_experiment_roster.sample(5)"
   ]
  },
  {
   "cell_type": "code",
   "execution_count": 17,
   "metadata": {},
   "outputs": [
    {
     "data": {
      "text/plain": [
       "(70609, 2)"
      ]
     },
     "execution_count": 17,
     "metadata": {},
     "output_type": "execute_result"
    }
   ],
   "source": [
    "df_experiment_roster.shape"
   ]
  },
  {
   "cell_type": "code",
   "execution_count": 18,
   "metadata": {},
   "outputs": [
    {
     "data": {
      "text/plain": [
       "client_id        0\n",
       "Variation    20109\n",
       "dtype: int64"
      ]
     },
     "execution_count": 18,
     "metadata": {},
     "output_type": "execute_result"
    }
   ],
   "source": [
    "# checking for missing values\n",
    "\n",
    "df_experiment_roster.isnull().sum()"
   ]
  },
  {
   "cell_type": "code",
   "execution_count": 19,
   "metadata": {},
   "outputs": [
    {
     "data": {
      "text/plain": [
       "Variation\n",
       "Test       26968\n",
       "Control    23532\n",
       "Name: count, dtype: int64"
      ]
     },
     "execution_count": 19,
     "metadata": {},
     "output_type": "execute_result"
    }
   ],
   "source": [
    "# checking values for the column variation\n",
    "\n",
    "df_experiment_roster.Variation.value_counts()"
   ]
  },
  {
   "cell_type": "code",
   "execution_count": 20,
   "metadata": {},
   "outputs": [
    {
     "data": {
      "text/plain": [
       "0"
      ]
     },
     "execution_count": 20,
     "metadata": {},
     "output_type": "execute_result"
    }
   ],
   "source": [
    "# checking for duplicates\n",
    "\n",
    "duplicates = df_experiment_roster.duplicated()\n",
    "\n",
    "duplicates.sum()"
   ]
  },
  {
   "cell_type": "code",
   "execution_count": 21,
   "metadata": {},
   "outputs": [
    {
     "data": {
      "text/plain": [
       "0"
      ]
     },
     "execution_count": 21,
     "metadata": {},
     "output_type": "execute_result"
    }
   ],
   "source": [
    "# checking if we have repeated client_ids\n",
    "\n",
    "df_experiment_roster['client_id'].duplicated().sum()\n",
    "\n"
   ]
  },
  {
   "cell_type": "code",
   "execution_count": 22,
   "metadata": {},
   "outputs": [
    {
     "data": {
      "text/plain": [
       "client_id    0\n",
       "Variation    0\n",
       "dtype: int64"
      ]
     },
     "execution_count": 22,
     "metadata": {},
     "output_type": "execute_result"
    }
   ],
   "source": [
    "# Dropping missing values\n",
    "\n",
    "df_experiment_roster = df_experiment_roster.dropna()\n",
    "\n",
    "df_experiment_roster.isnull().sum()\n"
   ]
  },
  {
   "cell_type": "markdown",
   "metadata": {},
   "source": [
    "## Merging the 3 datasets (client_profiles.csv, digital_footprints.csv, final_experiment_clients.csv)"
   ]
  },
  {
   "cell_type": "code",
   "execution_count": 23,
   "metadata": {},
   "outputs": [
    {
     "data": {
      "text/html": [
       "<div>\n",
       "<style scoped>\n",
       "    .dataframe tbody tr th:only-of-type {\n",
       "        vertical-align: middle;\n",
       "    }\n",
       "\n",
       "    .dataframe tbody tr th {\n",
       "        vertical-align: top;\n",
       "    }\n",
       "\n",
       "    .dataframe thead th {\n",
       "        text-align: right;\n",
       "    }\n",
       "</style>\n",
       "<table border=\"1\" class=\"dataframe\">\n",
       "  <thead>\n",
       "    <tr style=\"text-align: right;\">\n",
       "      <th></th>\n",
       "      <th>client_id</th>\n",
       "      <th>Variation</th>\n",
       "    </tr>\n",
       "  </thead>\n",
       "  <tbody>\n",
       "    <tr>\n",
       "      <th>0</th>\n",
       "      <td>9988021</td>\n",
       "      <td>Test</td>\n",
       "    </tr>\n",
       "    <tr>\n",
       "      <th>1</th>\n",
       "      <td>8320017</td>\n",
       "      <td>Test</td>\n",
       "    </tr>\n",
       "    <tr>\n",
       "      <th>2</th>\n",
       "      <td>4033851</td>\n",
       "      <td>Control</td>\n",
       "    </tr>\n",
       "    <tr>\n",
       "      <th>3</th>\n",
       "      <td>1982004</td>\n",
       "      <td>Test</td>\n",
       "    </tr>\n",
       "    <tr>\n",
       "      <th>4</th>\n",
       "      <td>9294070</td>\n",
       "      <td>Control</td>\n",
       "    </tr>\n",
       "    <tr>\n",
       "      <th>...</th>\n",
       "      <td>...</td>\n",
       "      <td>...</td>\n",
       "    </tr>\n",
       "    <tr>\n",
       "      <th>50495</th>\n",
       "      <td>393005</td>\n",
       "      <td>Control</td>\n",
       "    </tr>\n",
       "    <tr>\n",
       "      <th>50496</th>\n",
       "      <td>2908510</td>\n",
       "      <td>Control</td>\n",
       "    </tr>\n",
       "    <tr>\n",
       "      <th>50497</th>\n",
       "      <td>7230446</td>\n",
       "      <td>Test</td>\n",
       "    </tr>\n",
       "    <tr>\n",
       "      <th>50498</th>\n",
       "      <td>5230357</td>\n",
       "      <td>Test</td>\n",
       "    </tr>\n",
       "    <tr>\n",
       "      <th>50499</th>\n",
       "      <td>6334360</td>\n",
       "      <td>Test</td>\n",
       "    </tr>\n",
       "  </tbody>\n",
       "</table>\n",
       "<p>50500 rows × 2 columns</p>\n",
       "</div>"
      ],
      "text/plain": [
       "       client_id Variation\n",
       "0        9988021      Test\n",
       "1        8320017      Test\n",
       "2        4033851   Control\n",
       "3        1982004      Test\n",
       "4        9294070   Control\n",
       "...          ...       ...\n",
       "50495     393005   Control\n",
       "50496    2908510   Control\n",
       "50497    7230446      Test\n",
       "50498    5230357      Test\n",
       "50499    6334360      Test\n",
       "\n",
       "[50500 rows x 2 columns]"
      ]
     },
     "execution_count": 23,
     "metadata": {},
     "output_type": "execute_result"
    }
   ],
   "source": [
    "# Merging the 3 datasets\n",
    "\n",
    "df_client_profiles\n",
    "\n",
    "df_digital_footprint\n",
    "\n",
    "df_experiment_roster\n"
   ]
  },
  {
   "cell_type": "code",
   "execution_count": 24,
   "metadata": {},
   "outputs": [],
   "source": [
    "# Merge df_experiment_clients_cleaned with df_demo_cleaned\n",
    "\n",
    "df_merged = pd.merge(df_client_profiles, df_experiment_roster, on='client_id', how='inner')"
   ]
  },
  {
   "cell_type": "code",
   "execution_count": 31,
   "metadata": {},
   "outputs": [
    {
     "data": {
      "text/html": [
       "<div>\n",
       "<style scoped>\n",
       "    .dataframe tbody tr th:only-of-type {\n",
       "        vertical-align: middle;\n",
       "    }\n",
       "\n",
       "    .dataframe tbody tr th {\n",
       "        vertical-align: top;\n",
       "    }\n",
       "\n",
       "    .dataframe thead th {\n",
       "        text-align: right;\n",
       "    }\n",
       "</style>\n",
       "<table border=\"1\" class=\"dataframe\">\n",
       "  <thead>\n",
       "    <tr style=\"text-align: right;\">\n",
       "      <th></th>\n",
       "      <th>client_id</th>\n",
       "      <th>clnt_tenure_yr</th>\n",
       "      <th>clnt_tenure_mnth</th>\n",
       "      <th>clnt_age</th>\n",
       "      <th>gendr</th>\n",
       "      <th>num_accts</th>\n",
       "      <th>bal</th>\n",
       "      <th>calls_6_mnth</th>\n",
       "      <th>logons_6_mnth</th>\n",
       "      <th>Variation</th>\n",
       "      <th>visitor_id</th>\n",
       "      <th>visit_id</th>\n",
       "      <th>process_step</th>\n",
       "      <th>date_time</th>\n",
       "    </tr>\n",
       "  </thead>\n",
       "  <tbody>\n",
       "    <tr>\n",
       "      <th>83850</th>\n",
       "      <td>7942902</td>\n",
       "      <td>4</td>\n",
       "      <td>59</td>\n",
       "      <td>54</td>\n",
       "      <td>U</td>\n",
       "      <td>3</td>\n",
       "      <td>83533.54</td>\n",
       "      <td>6</td>\n",
       "      <td>9</td>\n",
       "      <td>Test</td>\n",
       "      <td>451202168_48875025723</td>\n",
       "      <td>63634905_53734855468_699323</td>\n",
       "      <td>start</td>\n",
       "      <td>2017-05-29 14:46:11</td>\n",
       "    </tr>\n",
       "    <tr>\n",
       "      <th>175666</th>\n",
       "      <td>2145511</td>\n",
       "      <td>25</td>\n",
       "      <td>306</td>\n",
       "      <td>30</td>\n",
       "      <td>U</td>\n",
       "      <td>2</td>\n",
       "      <td>47466.69</td>\n",
       "      <td>2</td>\n",
       "      <td>5</td>\n",
       "      <td>Control</td>\n",
       "      <td>340937991_32828124706</td>\n",
       "      <td>220188226_65609660856_213802</td>\n",
       "      <td>step_1</td>\n",
       "      <td>2017-04-06 14:50:31</td>\n",
       "    </tr>\n",
       "    <tr>\n",
       "      <th>90928</th>\n",
       "      <td>5618153</td>\n",
       "      <td>6</td>\n",
       "      <td>83</td>\n",
       "      <td>50</td>\n",
       "      <td>U</td>\n",
       "      <td>2</td>\n",
       "      <td>40459.77</td>\n",
       "      <td>6</td>\n",
       "      <td>9</td>\n",
       "      <td>Control</td>\n",
       "      <td>275392897_48011238512</td>\n",
       "      <td>212921119_17732189125_428539</td>\n",
       "      <td>step_3</td>\n",
       "      <td>2017-04-07 09:56:23</td>\n",
       "    </tr>\n",
       "    <tr>\n",
       "      <th>308355</th>\n",
       "      <td>5301174</td>\n",
       "      <td>28</td>\n",
       "      <td>340</td>\n",
       "      <td>70</td>\n",
       "      <td>F</td>\n",
       "      <td>3</td>\n",
       "      <td>1465651.50</td>\n",
       "      <td>6</td>\n",
       "      <td>9</td>\n",
       "      <td>Test</td>\n",
       "      <td>31115544_52282837474</td>\n",
       "      <td>61356406_48058790712_830581</td>\n",
       "      <td>step_1</td>\n",
       "      <td>2017-04-03 06:02:51</td>\n",
       "    </tr>\n",
       "    <tr>\n",
       "      <th>238929</th>\n",
       "      <td>321523</td>\n",
       "      <td>5</td>\n",
       "      <td>70</td>\n",
       "      <td>58</td>\n",
       "      <td>U</td>\n",
       "      <td>2</td>\n",
       "      <td>127728.69</td>\n",
       "      <td>5</td>\n",
       "      <td>8</td>\n",
       "      <td>Test</td>\n",
       "      <td>392695310_40218622421</td>\n",
       "      <td>367746714_31841905860_83854</td>\n",
       "      <td>confirm</td>\n",
       "      <td>2017-04-19 13:55:50</td>\n",
       "    </tr>\n",
       "  </tbody>\n",
       "</table>\n",
       "</div>"
      ],
      "text/plain": [
       "        client_id  clnt_tenure_yr  clnt_tenure_mnth  clnt_age gendr  \\\n",
       "83850     7942902               4                59        54     U   \n",
       "175666    2145511              25               306        30     U   \n",
       "90928     5618153               6                83        50     U   \n",
       "308355    5301174              28               340        70     F   \n",
       "238929     321523               5                70        58     U   \n",
       "\n",
       "        num_accts         bal  calls_6_mnth  logons_6_mnth Variation  \\\n",
       "83850           3    83533.54             6              9      Test   \n",
       "175666          2    47466.69             2              5   Control   \n",
       "90928           2    40459.77             6              9   Control   \n",
       "308355          3  1465651.50             6              9      Test   \n",
       "238929          2   127728.69             5              8      Test   \n",
       "\n",
       "                   visitor_id                      visit_id process_step  \\\n",
       "83850   451202168_48875025723   63634905_53734855468_699323        start   \n",
       "175666  340937991_32828124706  220188226_65609660856_213802       step_1   \n",
       "90928   275392897_48011238512  212921119_17732189125_428539       step_3   \n",
       "308355   31115544_52282837474   61356406_48058790712_830581       step_1   \n",
       "238929  392695310_40218622421   367746714_31841905860_83854      confirm   \n",
       "\n",
       "                 date_time  \n",
       "83850  2017-05-29 14:46:11  \n",
       "175666 2017-04-06 14:50:31  \n",
       "90928  2017-04-07 09:56:23  \n",
       "308355 2017-04-03 06:02:51  \n",
       "238929 2017-04-19 13:55:50  "
      ]
     },
     "execution_count": 31,
     "metadata": {},
     "output_type": "execute_result"
    }
   ],
   "source": [
    "# Merge the result with df_web_data_cleaned\n",
    "\n",
    "df_merged_final = pd.merge(df_merged, df_digital_footprint, on='client_id', how='inner')\n",
    "\n",
    "df_merged_final.sample(5)"
   ]
  },
  {
   "cell_type": "code",
   "execution_count": 26,
   "metadata": {},
   "outputs": [
    {
     "data": {
      "text/plain": [
       "(317123, 14)"
      ]
     },
     "execution_count": 26,
     "metadata": {},
     "output_type": "execute_result"
    }
   ],
   "source": [
    "df_merged_final.shape"
   ]
  },
  {
   "cell_type": "code",
   "execution_count": 33,
   "metadata": {},
   "outputs": [
    {
     "data": {
      "text/html": [
       "<div>\n",
       "<style scoped>\n",
       "    .dataframe tbody tr th:only-of-type {\n",
       "        vertical-align: middle;\n",
       "    }\n",
       "\n",
       "    .dataframe tbody tr th {\n",
       "        vertical-align: top;\n",
       "    }\n",
       "\n",
       "    .dataframe thead th {\n",
       "        text-align: right;\n",
       "    }\n",
       "</style>\n",
       "<table border=\"1\" class=\"dataframe\">\n",
       "  <thead>\n",
       "    <tr style=\"text-align: right;\">\n",
       "      <th></th>\n",
       "      <th>client_id</th>\n",
       "      <th>clnt_tenure_yr</th>\n",
       "      <th>clnt_tenure_mnth</th>\n",
       "      <th>clnt_age</th>\n",
       "      <th>gender</th>\n",
       "      <th>num_accts</th>\n",
       "      <th>balance</th>\n",
       "      <th>calls_6_mnth</th>\n",
       "      <th>logons_6_mnth</th>\n",
       "      <th>variation</th>\n",
       "      <th>visitor_id</th>\n",
       "      <th>visit_id</th>\n",
       "      <th>process_step</th>\n",
       "      <th>date_time</th>\n",
       "    </tr>\n",
       "  </thead>\n",
       "  <tbody>\n",
       "    <tr>\n",
       "      <th>0</th>\n",
       "      <td>836976</td>\n",
       "      <td>6</td>\n",
       "      <td>73</td>\n",
       "      <td>60</td>\n",
       "      <td>U</td>\n",
       "      <td>2</td>\n",
       "      <td>45105.3</td>\n",
       "      <td>6</td>\n",
       "      <td>9</td>\n",
       "      <td>Test</td>\n",
       "      <td>427070339_1413275162</td>\n",
       "      <td>228976764_46825473280_96584</td>\n",
       "      <td>confirm</td>\n",
       "      <td>2017-04-02 11:51:13</td>\n",
       "    </tr>\n",
       "    <tr>\n",
       "      <th>1</th>\n",
       "      <td>836976</td>\n",
       "      <td>6</td>\n",
       "      <td>73</td>\n",
       "      <td>60</td>\n",
       "      <td>U</td>\n",
       "      <td>2</td>\n",
       "      <td>45105.3</td>\n",
       "      <td>6</td>\n",
       "      <td>9</td>\n",
       "      <td>Test</td>\n",
       "      <td>427070339_1413275162</td>\n",
       "      <td>228976764_46825473280_96584</td>\n",
       "      <td>confirm</td>\n",
       "      <td>2017-04-02 11:47:50</td>\n",
       "    </tr>\n",
       "    <tr>\n",
       "      <th>2</th>\n",
       "      <td>836976</td>\n",
       "      <td>6</td>\n",
       "      <td>73</td>\n",
       "      <td>60</td>\n",
       "      <td>U</td>\n",
       "      <td>2</td>\n",
       "      <td>45105.3</td>\n",
       "      <td>6</td>\n",
       "      <td>9</td>\n",
       "      <td>Test</td>\n",
       "      <td>427070339_1413275162</td>\n",
       "      <td>228976764_46825473280_96584</td>\n",
       "      <td>confirm</td>\n",
       "      <td>2017-04-02 11:46:45</td>\n",
       "    </tr>\n",
       "    <tr>\n",
       "      <th>3</th>\n",
       "      <td>836976</td>\n",
       "      <td>6</td>\n",
       "      <td>73</td>\n",
       "      <td>60</td>\n",
       "      <td>U</td>\n",
       "      <td>2</td>\n",
       "      <td>45105.3</td>\n",
       "      <td>6</td>\n",
       "      <td>9</td>\n",
       "      <td>Test</td>\n",
       "      <td>427070339_1413275162</td>\n",
       "      <td>228976764_46825473280_96584</td>\n",
       "      <td>step_3</td>\n",
       "      <td>2017-04-02 11:23:08</td>\n",
       "    </tr>\n",
       "    <tr>\n",
       "      <th>4</th>\n",
       "      <td>836976</td>\n",
       "      <td>6</td>\n",
       "      <td>73</td>\n",
       "      <td>60</td>\n",
       "      <td>U</td>\n",
       "      <td>2</td>\n",
       "      <td>45105.3</td>\n",
       "      <td>6</td>\n",
       "      <td>9</td>\n",
       "      <td>Test</td>\n",
       "      <td>427070339_1413275162</td>\n",
       "      <td>228976764_46825473280_96584</td>\n",
       "      <td>step_2</td>\n",
       "      <td>2017-04-02 11:22:24</td>\n",
       "    </tr>\n",
       "  </tbody>\n",
       "</table>\n",
       "</div>"
      ],
      "text/plain": [
       "   client_id  clnt_tenure_yr  clnt_tenure_mnth  clnt_age gender  num_accts  \\\n",
       "0     836976               6                73        60      U          2   \n",
       "1     836976               6                73        60      U          2   \n",
       "2     836976               6                73        60      U          2   \n",
       "3     836976               6                73        60      U          2   \n",
       "4     836976               6                73        60      U          2   \n",
       "\n",
       "   balance  calls_6_mnth  logons_6_mnth variation            visitor_id  \\\n",
       "0  45105.3             6              9      Test  427070339_1413275162   \n",
       "1  45105.3             6              9      Test  427070339_1413275162   \n",
       "2  45105.3             6              9      Test  427070339_1413275162   \n",
       "3  45105.3             6              9      Test  427070339_1413275162   \n",
       "4  45105.3             6              9      Test  427070339_1413275162   \n",
       "\n",
       "                      visit_id process_step           date_time  \n",
       "0  228976764_46825473280_96584      confirm 2017-04-02 11:51:13  \n",
       "1  228976764_46825473280_96584      confirm 2017-04-02 11:47:50  \n",
       "2  228976764_46825473280_96584      confirm 2017-04-02 11:46:45  \n",
       "3  228976764_46825473280_96584       step_3 2017-04-02 11:23:08  \n",
       "4  228976764_46825473280_96584       step_2 2017-04-02 11:22:24  "
      ]
     },
     "execution_count": 33,
     "metadata": {},
     "output_type": "execute_result"
    }
   ],
   "source": [
    "# standardize the column names\n",
    "\n",
    "df_merged_final.columns = df_merged_final.columns.str.lower()\n",
    "\n",
    "# change column names\n",
    "\n",
    "df_merged_final = df_merged_final.rename(columns={'gendr': 'gender'})\n",
    "\n",
    "df_merged_final = df_merged_final.rename(columns={'bal': 'balance'})\n",
    "\n",
    "df_merged_final.head()"
   ]
  },
  {
   "cell_type": "code",
   "execution_count": 34,
   "metadata": {},
   "outputs": [],
   "source": [
    "# export the final dataset\n",
    "\n",
    "df_merged_final.to_csv(\"/Users/alexandreribeiro/Desktop/Ironhacks Booty/5th week/Project/Datasets/df_merged_final.csv\", index=False)\n"
   ]
  },
  {
   "cell_type": "markdown",
   "metadata": {},
   "source": [
    "## Cleaning the outliers"
   ]
  },
  {
   "cell_type": "code",
   "execution_count": 59,
   "metadata": {},
   "outputs": [
    {
     "data": {
      "text/plain": [
       "(317123, 15)"
      ]
     },
     "execution_count": 59,
     "metadata": {},
     "output_type": "execute_result"
    }
   ],
   "source": [
    "df_final_cleaned = df_merged_final.copy()\n",
    "\n",
    "df_final_cleaned.shape"
   ]
  },
  {
   "cell_type": "code",
   "execution_count": 57,
   "metadata": {},
   "outputs": [
    {
     "data": {
      "text/plain": [
       "(317123, 276740)"
      ]
     },
     "execution_count": 57,
     "metadata": {},
     "output_type": "execute_result"
    }
   ],
   "source": [
    "# using IQR method for outlier cleaning\n",
    "\n",
    "# Calculate the IQR for tenure in years and balance\n",
    "\n",
    "Q1_tenure_yr = df['clnt_tenure_yr'].quantile(0.25)\n",
    "Q3_tenure_yr = df['clnt_tenure_yr'].quantile(0.75)\n",
    "IQR_tenure_yr = Q3_tenure_yr - Q1_tenure_yr\n",
    "lower_bound_tenure_yr = Q1_tenure_yr - 1.5 * IQR_tenure_yr\n",
    "upper_bound_tenure_yr = Q3_tenure_yr + 1.5 * IQR_tenure_yr\n",
    "\n",
    "Q1_tenure_mnth = df['clnt_tenure_mnth'].quantile(0.25)\n",
    "Q3_tenure_mnth = df['clnt_tenure_mnth'].quantile(0.75)\n",
    "IQR_tenure_mnth = Q3_tenure_mnth - Q1_tenure_mnth\n",
    "lower_bound_tenure_mnth = Q1_tenure_mnth - 1.5 * IQR_tenure_mnth\n",
    "upper_bound_tenure_mnth = Q3_tenure_mnth + 1.5 * IQR_tenure_mnth\n",
    "\n",
    "Q1_balance = df['balance'].quantile(0.25)\n",
    "Q3_balance = df['balance'].quantile(0.75)\n",
    "IQR_balance = Q3_balance - Q1_balance\n",
    "lower_bound_balance = Q1_balance - 1.5 * IQR_balance\n",
    "upper_bound_balance = Q3_balance + 1.5 * IQR_balance\n",
    "\n",
    "# Filter out the outliers\n",
    "\n",
    "cleaned_df = df[\n",
    "    (df['clnt_tenure_yr'] >= lower_bound_tenure_yr) & (df['clnt_tenure_yr'] <= upper_bound_tenure_yr) &\n",
    "    (df['clnt_tenure_mnth'] >= lower_bound_tenure_mnth) & (df['clnt_tenure_mnth'] <= upper_bound_tenure_mnth) &\n",
    "    (df['balance'] >= lower_bound_balance) & (df['balance'] <= upper_bound_balance)\n",
    "]\n",
    "\n",
    "# Display the number of records before and after cleaning\n",
    "original_count = df.shape[0]\n",
    "cleaned_count = cleaned_df.shape[0]\n",
    "\n",
    "original_count, cleaned_count"
   ]
  },
  {
   "cell_type": "code",
   "execution_count": 61,
   "metadata": {},
   "outputs": [],
   "source": [
    "# export the cleaned dataset\n",
    "\n",
    "cleaned_df = cleaned_df.to_csv(\"/Users/alexandreribeiro/Desktop/Ironhacks Booty/5th week/Project/Datasets/df_cleaned.csv\", index=False)"
   ]
  }
 ],
 "metadata": {
  "kernelspec": {
   "display_name": "env_test",
   "language": "python",
   "name": "python3"
  },
  "language_info": {
   "codemirror_mode": {
    "name": "ipython",
    "version": 3
   },
   "file_extension": ".py",
   "mimetype": "text/x-python",
   "name": "python",
   "nbconvert_exporter": "python",
   "pygments_lexer": "ipython3",
   "version": "3.11.9"
  }
 },
 "nbformat": 4,
 "nbformat_minor": 2
}
